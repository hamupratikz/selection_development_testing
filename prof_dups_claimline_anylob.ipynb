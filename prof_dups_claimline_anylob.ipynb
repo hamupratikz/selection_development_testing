{
 "cells": [
  {
   "cell_type": "code",
   "execution_count": 7,
   "id": "2eae0b70",
   "metadata": {},
   "outputs": [],
   "source": [
    "import pandas as pd"
   ]
  },
  {
   "cell_type": "code",
   "execution_count": null,
   "id": "963c9786",
   "metadata": {},
   "outputs": [
    {
     "data": {
      "text/plain": [
       "4219"
      ]
     },
     "execution_count": 4,
     "metadata": {},
     "output_type": "execute_result"
    }
   ],
   "source": [
    "df = pd.read_csv(r\"C:\\Users\\hamupratik\\Downloads\\937b47ca-125c-44c5-bfdd-0975c0647a6f.csv\", dtype =str)\n"
   ]
  },
  {
   "cell_type": "code",
   "execution_count": 8,
   "id": "2fec8884",
   "metadata": {},
   "outputs": [],
   "source": [
    "df['plan_paid_amount'] = df['plan_paid_amount'].astype(float)\n",
    "df['claim_received_date'] = pd.to_datetime(df['claim_received_date'], errors='coerce')\n",
    "modifier_cols = ['proc_modifier', 'proc_modifier2', 'proc_modifier4', 'proc_modifier5']\n",
    "df['procedure_code'] = df['procedure_code'].str.strip()\n",
    "df[modifier_cols] = df[modifier_cols].fillna('').apply(lambda x: x.str.strip().str.lower())\n",
    "df['quantity'] = pd.to_numeric(df['quantity'], errors='coerce')\n"
   ]
  },
  {
   "cell_type": "code",
   "execution_count": 9,
   "id": "c3122e17",
   "metadata": {},
   "outputs": [
    {
     "name": "stderr",
     "output_type": "stream",
     "text": [
      "C:\\Users\\hamupratik\\AppData\\Local\\Temp\\ipykernel_14580\\3919107775.py:37: DeprecationWarning: DataFrameGroupBy.apply operated on the grouping columns. This behavior is deprecated, and in a future version of pandas the grouping columns will be excluded from the operation. Either pass `include_groups=False` to exclude the groupings or explicitly select the grouping columns after groupby to silence this warning.\n",
      "  flags_series = df.groupby(group_keys, group_keys=False).apply(flag_by_procedure)\n"
     ]
    }
   ],
   "source": [
    "import pandas as pd\n",
    "import numpy as np\n",
    "\n",
    "df['procedure_code'] = df['procedure_code'].str.strip()\n",
    "\n",
    "# Group by member and procedure code\n",
    "group_keys = ['member_medicare_id',\n",
    "    'procedure_code',\n",
    "    'proc_modifier',\n",
    "    'proc_modifier2',\n",
    "    'proc_modifier4',\n",
    "    'proc_modifier5',\n",
    "    'quantity']\n",
    "\n",
    "def flag_by_procedure(group):\n",
    "    group = group[group['plan_paid_amount'] > 75].sort_values('claim_received_date')\n",
    "\n",
    "    if group.empty or len(group) == 1:\n",
    "        return pd.Series(['other'] * len(group), index=group.index)\n",
    "\n",
    "    first_date = group.iloc[0]['claim_received_date']\n",
    "    last_date = group.iloc[-1]['claim_received_date']\n",
    "\n",
    "    flags = []\n",
    "    for _, row in group.iterrows():\n",
    "        if first_date == last_date:\n",
    "            flags.append('duplicate')\n",
    "        elif row['claim_received_date'] == first_date:\n",
    "            flags.append('reference')\n",
    "        elif row['claim_received_date'] == last_date:\n",
    "            flags.append('target')\n",
    "        else:\n",
    "            flags.append('other')\n",
    "    return pd.Series(flags, index=group.index)\n",
    "\n",
    "# Apply group-wise flagging\n",
    "flags_series = df.groupby(group_keys, group_keys=False).apply(flag_by_procedure)\n",
    "\n",
    "# Initialize and assign flags\n",
    "df['proc_code_flag'] = 'other'\n",
    "df.loc[flags_series.index, 'proc_code_flag'] = flags_series\n",
    "\n",
    "# Optionally, set target_code where appropriate\n",
    "df['target_code'] = df.apply(\n",
    "    lambda row: row['procedure_code'] if row['proc_code_flag'] in ['target', 'duplicate'] else np.nan,\n",
    "    axis=1\n",
    ")\n"
   ]
  },
  {
   "cell_type": "code",
   "execution_count": 10,
   "id": "e300a8a4",
   "metadata": {},
   "outputs": [
    {
     "data": {
      "text/plain": [
       "array(['target', 'reference', 'duplicate', 'other'], dtype=object)"
      ]
     },
     "execution_count": 10,
     "metadata": {},
     "output_type": "execute_result"
    }
   ],
   "source": [
    "df['proc_code_flag'].unique()"
   ]
  },
  {
   "cell_type": "code",
   "execution_count": 11,
   "id": "0a545bb4",
   "metadata": {},
   "outputs": [],
   "source": [
    "# return \n",
    "# df"
   ]
  },
  {
   "cell_type": "code",
   "execution_count": null,
   "id": "62e7c474",
   "metadata": {},
   "outputs": [],
   "source": []
  }
 ],
 "metadata": {
  "kernelspec": {
   "display_name": ".venv",
   "language": "python",
   "name": "python3"
  },
  "language_info": {
   "codemirror_mode": {
    "name": "ipython",
    "version": 3
   },
   "file_extension": ".py",
   "mimetype": "text/x-python",
   "name": "python",
   "nbconvert_exporter": "python",
   "pygments_lexer": "ipython3",
   "version": "3.11.9"
  }
 },
 "nbformat": 4,
 "nbformat_minor": 5
}
