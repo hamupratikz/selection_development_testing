{
 "cells": [
  {
   "cell_type": "code",
   "execution_count": 1,
   "id": "2e041e18",
   "metadata": {},
   "outputs": [],
   "source": [
    "import pandas as pd\n",
    "import numpy as np\n",
    "import boto3\n",
    "from datetime import datetime\n",
    "from tqdm import tqdm\n",
    "import warnings\n",
    "warnings.filterwarnings('ignore')\n",
    "import io"
   ]
  },
  {
   "cell_type": "code",
   "execution_count": 2,
   "id": "612af9f2",
   "metadata": {},
   "outputs": [],
   "source": [
    "current_date = datetime.today().date()\n",
    "LOOKBACK_DATE = (current_date - pd.DateOffset(months=18)).replace(day=1).strftime(\"'%Y-%m-%d'\")"
   ]
  },
  {
   "cell_type": "markdown",
   "id": "97eb7d7b",
   "metadata": {},
   "source": [
    "STEPS TO GENERATE CLAIM SUBMISSION FILE AFTER REVIEW COMPLETED\n",
    "\n",
    "1. Load raw file from business team\n",
    "2. Filter the loaded files only that are selected\n",
    "3. Concatinate all filtered files into single dataframe\n",
    "4. Check if selections are correct\n",
    "5. Start Generation of claim submission file\n",
    "6. Get the last key: Use claim submission table (use SQL query which groups claim submissions table for each 'vendor code' and 'program code'\n",
    "    and max of last 6 letters of 'vendor audit id')\n",
    "7. Generate claim submission for for selections\n"
   ]
  },
  {
   "cell_type": "markdown",
   "id": "20886f9c",
   "metadata": {},
   "source": [
    "# 1. PROF1,OP1 Load raw file from business team\n",
    "Load the claim submission files here, We may have multiple files:\n",
    "1. Selection file generated from Lambda\n",
    "2. Selection file generated from Manual selections"
   ]
  },
  {
   "cell_type": "code",
   "execution_count": 3,
   "id": "3fd2d5bd",
   "metadata": {},
   "outputs": [],
   "source": [
    "df_lambda  = pd.read_excel(r\"D:\\Selections July Cleanup\\SCRIPTS TO RUN AFTER SELECTIONS IS DONE\\Script to generate Claim Submission file\\business_selections_profee_selection_file_for_review_07022025.xlsx\", dtype=str)\n",
    "df_manual  = pd.read_excel(r\"D:\\Selections July Cleanup\\Run manual queries script\\profee_manual_selection_file_for_review_07012025.xlsx\", dtype=str)"
   ]
  },
  {
   "cell_type": "markdown",
   "id": "dc427824",
   "metadata": {},
   "source": [
    "# OP1 Load"
   ]
  },
  {
   "cell_type": "code",
   "execution_count": 4,
   "id": "097b90a2",
   "metadata": {},
   "outputs": [],
   "source": [
    "# df_op_lambda = pd.read_excel(r\"D:\\Selections July Cleanup\\SCRIPTS TO RUN AFTER SELECTIONS IS DONE\\Script to generate Claim Submission file\\business_selection_profee_ptp_mod_selection_file_for_review_07022025.xlsx\", dtype=str)\n",
    "df_op_manual = pd.read_excel(r\"D:\\Selections July Cleanup\\SCRIPTS TO RUN AFTER SELECTIONS IS DONE\\Script to generate Claim Submission file\\business_selection_profee_ptp_mod_selection_file_for_review_07022025.xlsx\", dtype=str)\n"
   ]
  },
  {
   "cell_type": "code",
   "execution_count": 6,
   "id": "7225422a",
   "metadata": {},
   "outputs": [],
   "source": [
    "# combine files for each program types in here\n",
    "\n",
    "df_profee = pd.concat([df_lambda, df_manual])\n",
    "df_op = df_op_manual.copy()\n",
    "\n"
   ]
  },
  {
   "cell_type": "markdown",
   "id": "59b3cd56",
   "metadata": {},
   "source": [
    "# 1. IP1 Load claims file after applying provider limitation"
   ]
  },
  {
   "cell_type": "code",
   "execution_count": 8,
   "id": "5d5de411",
   "metadata": {},
   "outputs": [],
   "source": [
    "# df_ip= pd.read_excel()\n",
    "\n",
    "df_ip = pd.read_csv(r\"C:\\Users\\hamupratik\\Downloads\\selection_IP1_prov_excl_applied_2025_07_02.csv\", dtype = str)"
   ]
  },
  {
   "cell_type": "code",
   "execution_count": null,
   "id": "20c22574",
   "metadata": {},
   "outputs": [],
   "source": [
    "df_ip['Rank'] = df_ip['Rank'].astype(int)\n",
    "df_ip = df_ip.sort_values(by='Rank').reset_index(True)"
   ]
  },
  {
   "cell_type": "code",
   "execution_count": 9,
   "id": "fdabe2b2",
   "metadata": {},
   "outputs": [],
   "source": [
    "only_required_columns_for_generation = ['query_name','template_name','adjudication_record_locator', 'member_record_locator', \n",
    "                                        'first_service_date', 'payer_control_number','plan_paid_amount','is_final_paid_indicator', \n",
    "                                        'bill_type_code', 'payment_effective_date','isselected_by_vendor', \n",
    "                                         'root_payer_control_number']"
   ]
  },
  {
   "cell_type": "markdown",
   "id": "0869c63e",
   "metadata": {},
   "source": [
    "# IP claim submission file generation"
   ]
  },
  {
   "cell_type": "code",
   "execution_count": 10,
   "id": "8a2228f4",
   "metadata": {},
   "outputs": [
    {
     "name": "stdout",
     "output_type": "stream",
     "text": [
      "IP unique pcn before dropping duplicated 814\n",
      "IP unique pcn after dropping duplicated 814\n"
     ]
    }
   ],
   "source": [
    "print(f'IP unique pcn before dropping duplicated {df_ip.payer_control_number.nunique()}')\n",
    "df_ip1 = df_ip[['adjudication_record_locator', 'member_record_locator', 'first_service_date', 'payer_control_number']].drop_duplicates().reset_index(drop= True)\n",
    "print(f'IP unique pcn after dropping duplicated {df_ip1.payer_control_number.nunique()}')\n"
   ]
  },
  {
   "cell_type": "markdown",
   "id": "fd31f171",
   "metadata": {},
   "source": [
    "Run this query in athena to get last key"
   ]
  },
  {
   "cell_type": "code",
   "execution_count": 11,
   "id": "9f26dc20",
   "metadata": {},
   "outputs": [
    {
     "data": {
      "text/plain": [
       "'\\nSELECT distinct \"vendor code\",\\n\\t\"program code\",\\n\\tmax(\\n\\t\\tcast(substring(\"vendor audit id\", -6) as integer)\\n\\t)\\nFROM \"devoted_health_prod\".\"claim_submissions\"\\ngroup by \"vendor code\",\\n\\t\"program code\"   \\n'"
      ]
     },
     "execution_count": 11,
     "metadata": {},
     "output_type": "execute_result"
    }
   ],
   "source": [
    "\"\"\"\n",
    "SELECT distinct \"vendor code\",\n",
    "\t\"program code\",\n",
    "\tmax(\n",
    "\t\tcast(substring(\"vendor audit id\", -6) as integer)\n",
    "\t)\n",
    "FROM \"devoted_health_prod\".\"claim_submissions\"\n",
    "group by \"vendor code\",\n",
    "\t\"program code\"   \n",
    "\"\"\""
   ]
  },
  {
   "cell_type": "markdown",
   "id": "c7a887c7",
   "metadata": {},
   "source": [
    "Assign variables for IP1"
   ]
  },
  {
   "cell_type": "code",
   "execution_count": 12,
   "id": "1d17ddfa",
   "metadata": {},
   "outputs": [],
   "source": [
    "ip_btc='11' \n",
    "ip_vendor_code = 'ZIG' \n",
    "ip_vendor_concept_id = 'DRG1' \n",
    "ip_ref_claim_num = '' \n",
    "ip_opportunity_amount = '' \n",
    "ip_finding_reason_code = '' \n",
    "ip_audit_comment = '' \n",
    "ip_notes = ''\n",
    "ip_key_pref = 'ZAUDEVIPDRG'\n",
    "ip_key_suf = '' \n",
    "ip_last_key = 14196\n",
    "ip_program_code = \"IP1\""
   ]
  },
  {
   "cell_type": "markdown",
   "id": "54fdd36e",
   "metadata": {},
   "source": [
    "Assign variables for Prof1"
   ]
  },
  {
   "cell_type": "code",
   "execution_count": 13,
   "id": "a2c0c154",
   "metadata": {},
   "outputs": [],
   "source": [
    "profee_btc='' \n",
    "profee_vendor_code = 'ZIG' \n",
    "profee_vendor_concept_id = 'BUND1' \n",
    "profee_ref_claim_num = '' \n",
    "profee_opportunity_amount = '' \n",
    "profee_finding_reason_code = '' \n",
    "profee_audit_comment = '' \n",
    "profee_notes = ''\n",
    "profee_key_pref = 'ZAUDEVPROF'\n",
    "profee_key_suf = '' \n",
    "profee_last_key = 921\n",
    "profee_program_code = \"PROF1\"\n"
   ]
  },
  {
   "cell_type": "code",
   "execution_count": 14,
   "id": "80ec4b3b",
   "metadata": {},
   "outputs": [],
   "source": [
    "op_btc='13' \n",
    "op_vendor_code = 'ZIG' \n",
    "op_vendor_concept_id = '' #need to update \n",
    "op_ref_claim_num = '' \n",
    "op_opportunity_amount = '' \n",
    "op_finding_reason_code = '' \n",
    "op_audit_comment = '' \n",
    "op_notes = ''\n",
    "op_key_pref = 'ZAUDEVOP'\n",
    "op_key_suf = '' \n",
    "op_last_key = 850\n",
    "op_program_code = \"OP1\""
   ]
  },
  {
   "cell_type": "code",
   "execution_count": 15,
   "id": "4d76494e",
   "metadata": {},
   "outputs": [],
   "source": [
    "def get_claim_submission_file_for_selections(df, vendor_code, program_code, vendor_concept_id, ref_claim_num, \n",
    "                opportunity_amount, finding_reason_code, audit_comment, notes, key_pref, key_suf, last_key):\n",
    "    \n",
    "    try:\n",
    "        df1 = df[['adjudication_record_locator', 'member_record_locator', 'first_service_date', \n",
    "                                        'payer_control_number']].drop_duplicates()\n",
    "        df1 = df1.reset_index(drop=True)\n",
    "        df1['Vendor Code'] = vendor_code\n",
    "        df1['Program Code'] = program_code\n",
    "        df1['Vendor Concept ID'] = vendor_concept_id\n",
    "        df1['Reference Claim Number'] = ref_claim_num\n",
    "        df1['Opportunity Amount'] = opportunity_amount\n",
    "        df1['Finding Reason Code'] = finding_reason_code\n",
    "        df1['Audit Comments'] = audit_comment\n",
    "        df1['NOTES'] = notes\n",
    "    except Exception as e:\n",
    "        print(\"GOT ERROR WHILE ADDING REQUIRED COLUMNS\")\n",
    "        print(e)\n",
    "\n",
    "    try:\n",
    "        df1['A'] = key_pref\n",
    "        df1['B'] = key_suf       \n",
    "        for i in range(len(df1['adjudication_record_locator'].unique())):\n",
    "            df1.loc[[i], 'B'] = last_key+i+1\n",
    "        df1['Vendor Audit ID'] = df1.apply(lambda x: x['A']+str(x['B']).zfill(6), axis=1)\n",
    "        df1.drop(columns = ['A', 'B', 'payer_control_number'], inplace =True)\n",
    "        rename1 = {'adjudication_record_locator':'Adjudication Record Locator', 'member_record_locator':'Member Record Locator',\n",
    "           'first_service_date':'FDOS'}\n",
    "        df1.rename(columns = rename1, inplace=True)\n",
    "        df1 = df1[['Vendor Code', 'Adjudication Record Locator', 'Vendor Audit ID', 'Program Code', \n",
    "                                     'Vendor Concept ID', 'Member Record Locator', 'FDOS', 'Reference Claim Number', \n",
    "                                     'Opportunity Amount','Finding Reason Code', 'Audit Comments', 'NOTES']]\n",
    "        return df1\n",
    "    except Exception as e:\n",
    "        print(\"GOT ERROR WHILE GENERATING VENDOR AUDIT ID\")\n",
    "        print(e)"
   ]
  },
  {
   "cell_type": "markdown",
   "id": "51c196dc",
   "metadata": {},
   "source": [
    "Run claims submission function with IP variables"
   ]
  },
  {
   "cell_type": "code",
   "execution_count": 16,
   "id": "8e62e3bb",
   "metadata": {},
   "outputs": [],
   "source": [
    "pipe_ip = get_claim_submission_file_for_selections(df_ip1, ip_vendor_code, ip_program_code, ip_vendor_concept_id, ip_ref_claim_num, \n",
    "                ip_opportunity_amount, ip_finding_reason_code, ip_audit_comment, ip_notes, ip_key_pref, ip_key_suf, ip_last_key)\n",
    " \n"
   ]
  },
  {
   "cell_type": "markdown",
   "id": "b33537f1",
   "metadata": {},
   "source": [
    "Run claims submission function with profee variables"
   ]
  },
  {
   "cell_type": "code",
   "execution_count": 20,
   "id": "597161f1",
   "metadata": {},
   "outputs": [],
   "source": [
    "pipe_profee = get_claim_submission_file_for_selections(df_profee, profee_vendor_code, profee_program_code, profee_vendor_concept_id, profee_ref_claim_num, \n",
    "                profee_opportunity_amount, profee_finding_reason_code, profee_audit_comment, profee_notes, profee_key_pref, profee_key_suf, profee_last_key)"
   ]
  },
  {
   "cell_type": "markdown",
   "id": "d7bd6c0f",
   "metadata": {},
   "source": [
    "Run claims submission function with OP variables"
   ]
  },
  {
   "cell_type": "code",
   "execution_count": 21,
   "id": "a36f05ce",
   "metadata": {},
   "outputs": [],
   "source": [
    "pipe_op = get_claim_submission_file_for_selections(df_op, op_vendor_code, op_program_code, op_vendor_concept_id, op_ref_claim_num, \n",
    "                op_opportunity_amount, op_finding_reason_code, op_audit_comment, op_notes, op_key_pref, op_key_suf, op_last_key)"
   ]
  },
  {
   "cell_type": "code",
   "execution_count": 22,
   "id": "f318c85b",
   "metadata": {},
   "outputs": [
    {
     "data": {
      "application/vnd.microsoft.datawrangler.viewer.v0+json": {
       "columns": [
        {
         "name": "index",
         "rawType": "object",
         "type": "string"
        },
        {
         "name": "0",
         "rawType": "int64",
         "type": "integer"
        }
       ],
       "ref": "521b2d90-96de-46ca-bc85-4d5a53ba783f",
       "rows": [
        [
         "Vendor Code",
         "0"
        ],
        [
         "Adjudication Record Locator",
         "0"
        ],
        [
         "Vendor Audit ID",
         "0"
        ],
        [
         "Program Code",
         "0"
        ],
        [
         "Vendor Concept ID",
         "0"
        ],
        [
         "Member Record Locator",
         "0"
        ],
        [
         "FDOS",
         "0"
        ],
        [
         "Reference Claim Number",
         "0"
        ],
        [
         "Opportunity Amount",
         "0"
        ],
        [
         "Finding Reason Code",
         "0"
        ],
        [
         "Audit Comments",
         "0"
        ],
        [
         "NOTES",
         "0"
        ]
       ],
       "shape": {
        "columns": 1,
        "rows": 12
       }
      },
      "text/plain": [
       "Vendor Code                    0\n",
       "Adjudication Record Locator    0\n",
       "Vendor Audit ID                0\n",
       "Program Code                   0\n",
       "Vendor Concept ID              0\n",
       "Member Record Locator          0\n",
       "FDOS                           0\n",
       "Reference Claim Number         0\n",
       "Opportunity Amount             0\n",
       "Finding Reason Code            0\n",
       "Audit Comments                 0\n",
       "NOTES                          0\n",
       "dtype: int64"
      ]
     },
     "execution_count": 22,
     "metadata": {},
     "output_type": "execute_result"
    }
   ],
   "source": [
    "pipe_ip.isna().sum()"
   ]
  },
  {
   "cell_type": "code",
   "execution_count": 23,
   "id": "6289c2ec",
   "metadata": {},
   "outputs": [
    {
     "data": {
      "application/vnd.microsoft.datawrangler.viewer.v0+json": {
       "columns": [
        {
         "name": "index",
         "rawType": "object",
         "type": "string"
        },
        {
         "name": "0",
         "rawType": "int64",
         "type": "integer"
        }
       ],
       "ref": "97759c31-108c-487f-8698-2e961d82987f",
       "rows": [
        [
         "Vendor Code",
         "0"
        ],
        [
         "Adjudication Record Locator",
         "0"
        ],
        [
         "Vendor Audit ID",
         "0"
        ],
        [
         "Program Code",
         "0"
        ],
        [
         "Vendor Concept ID",
         "0"
        ],
        [
         "Member Record Locator",
         "0"
        ],
        [
         "FDOS",
         "0"
        ],
        [
         "Reference Claim Number",
         "0"
        ],
        [
         "Opportunity Amount",
         "0"
        ],
        [
         "Finding Reason Code",
         "0"
        ],
        [
         "Audit Comments",
         "0"
        ],
        [
         "NOTES",
         "0"
        ]
       ],
       "shape": {
        "columns": 1,
        "rows": 12
       }
      },
      "text/plain": [
       "Vendor Code                    0\n",
       "Adjudication Record Locator    0\n",
       "Vendor Audit ID                0\n",
       "Program Code                   0\n",
       "Vendor Concept ID              0\n",
       "Member Record Locator          0\n",
       "FDOS                           0\n",
       "Reference Claim Number         0\n",
       "Opportunity Amount             0\n",
       "Finding Reason Code            0\n",
       "Audit Comments                 0\n",
       "NOTES                          0\n",
       "dtype: int64"
      ]
     },
     "execution_count": 23,
     "metadata": {},
     "output_type": "execute_result"
    }
   ],
   "source": [
    "pipe_profee.isna().sum()"
   ]
  },
  {
   "cell_type": "code",
   "execution_count": 24,
   "id": "48797c64",
   "metadata": {},
   "outputs": [
    {
     "data": {
      "application/vnd.microsoft.datawrangler.viewer.v0+json": {
       "columns": [
        {
         "name": "index",
         "rawType": "object",
         "type": "string"
        },
        {
         "name": "0",
         "rawType": "int64",
         "type": "integer"
        }
       ],
       "ref": "ee6e2c0d-db39-4af3-984c-1898aa86b8f1",
       "rows": [
        [
         "Vendor Code",
         "0"
        ],
        [
         "Adjudication Record Locator",
         "0"
        ],
        [
         "Vendor Audit ID",
         "0"
        ],
        [
         "Program Code",
         "0"
        ],
        [
         "Vendor Concept ID",
         "0"
        ],
        [
         "Member Record Locator",
         "0"
        ],
        [
         "FDOS",
         "0"
        ],
        [
         "Reference Claim Number",
         "0"
        ],
        [
         "Opportunity Amount",
         "0"
        ],
        [
         "Finding Reason Code",
         "0"
        ],
        [
         "Audit Comments",
         "0"
        ],
        [
         "NOTES",
         "0"
        ]
       ],
       "shape": {
        "columns": 1,
        "rows": 12
       }
      },
      "text/plain": [
       "Vendor Code                    0\n",
       "Adjudication Record Locator    0\n",
       "Vendor Audit ID                0\n",
       "Program Code                   0\n",
       "Vendor Concept ID              0\n",
       "Member Record Locator          0\n",
       "FDOS                           0\n",
       "Reference Claim Number         0\n",
       "Opportunity Amount             0\n",
       "Finding Reason Code            0\n",
       "Audit Comments                 0\n",
       "NOTES                          0\n",
       "dtype: int64"
      ]
     },
     "execution_count": 24,
     "metadata": {},
     "output_type": "execute_result"
    }
   ],
   "source": [
    "pipe_op.isna().sum()"
   ]
  },
  {
   "cell_type": "markdown",
   "id": "c3078d01",
   "metadata": {},
   "source": [
    "Concat all program codes into one file"
   ]
  },
  {
   "cell_type": "code",
   "execution_count": 25,
   "id": "80b29b2d",
   "metadata": {},
   "outputs": [
    {
     "name": "stdout",
     "output_type": "stream",
     "text": [
      "total claims IP: 814\n"
     ]
    }
   ],
   "source": [
    "print(f'total claims IP: {pipe_ip.shape[0]}')"
   ]
  },
  {
   "cell_type": "code",
   "execution_count": 26,
   "id": "c427c97e",
   "metadata": {},
   "outputs": [
    {
     "name": "stdout",
     "output_type": "stream",
     "text": [
      "total claims PROFEE: 15\n"
     ]
    }
   ],
   "source": [
    "print(f'total claims PROFEE: {pipe_profee.shape[0]}')"
   ]
  },
  {
   "cell_type": "code",
   "execution_count": 27,
   "id": "9fb84726",
   "metadata": {},
   "outputs": [
    {
     "name": "stdout",
     "output_type": "stream",
     "text": [
      "total claims OP: 10\n"
     ]
    }
   ],
   "source": [
    "print(f'total claims OP: {pipe_op.shape[0]}')"
   ]
  },
  {
   "cell_type": "code",
   "execution_count": 28,
   "id": "1d8f01f1",
   "metadata": {},
   "outputs": [
    {
     "data": {
      "application/vnd.microsoft.datawrangler.viewer.v0+json": {
       "columns": [
        {
         "name": "index",
         "rawType": "int64",
         "type": "integer"
        },
        {
         "name": "Vendor Code",
         "rawType": "object",
         "type": "string"
        },
        {
         "name": "Adjudication Record Locator",
         "rawType": "object",
         "type": "string"
        },
        {
         "name": "Vendor Audit ID",
         "rawType": "object",
         "type": "string"
        },
        {
         "name": "Program Code",
         "rawType": "object",
         "type": "string"
        },
        {
         "name": "Vendor Concept ID",
         "rawType": "object",
         "type": "string"
        },
        {
         "name": "Member Record Locator",
         "rawType": "object",
         "type": "string"
        },
        {
         "name": "FDOS",
         "rawType": "object",
         "type": "string"
        },
        {
         "name": "Reference Claim Number",
         "rawType": "object",
         "type": "string"
        },
        {
         "name": "Opportunity Amount",
         "rawType": "object",
         "type": "string"
        },
        {
         "name": "Finding Reason Code",
         "rawType": "object",
         "type": "string"
        },
        {
         "name": "Audit Comments",
         "rawType": "object",
         "type": "string"
        },
        {
         "name": "NOTES",
         "rawType": "object",
         "type": "string"
        }
       ],
       "ref": "2ab603fc-0bc6-42c9-ba83-b23b0aafb110",
       "rows": [
        [
         "0",
         "ZIG",
         "AJX6942UKZ",
         "ZAUDEVIPDRG014197",
         "IP1",
         "DRG1",
         "DG25Z9",
         "2025-05-21",
         "",
         "",
         "",
         "",
         ""
        ],
        [
         "1",
         "ZIG",
         "AJX6ZSSFR4",
         "ZAUDEVIPDRG014198",
         "IP1",
         "DRG1",
         "D2W65K",
         "2025-06-11",
         "",
         "",
         "",
         "",
         ""
        ],
        [
         "2",
         "ZIG",
         "AJXYF74GJH",
         "ZAUDEVIPDRG014199",
         "IP1",
         "DRG1",
         "DAE6K2",
         "2025-06-11",
         "",
         "",
         "",
         "",
         ""
        ],
        [
         "3",
         "ZIG",
         "AJXS8C57WJ",
         "ZAUDEVIPDRG014200",
         "IP1",
         "DRG1",
         "D57FC2",
         "2025-03-27",
         "",
         "",
         "",
         "",
         ""
        ],
        [
         "4",
         "ZIG",
         "AJXS274GZ5",
         "ZAUDEVIPDRG014201",
         "IP1",
         "DRG1",
         "DRJEUE",
         "2025-05-13",
         "",
         "",
         "",
         "",
         ""
        ],
        [
         "5",
         "ZIG",
         "AJX3636YSW",
         "ZAUDEVIPDRG014202",
         "IP1",
         "DRG1",
         "D564K8",
         "2025-06-07",
         "",
         "",
         "",
         "",
         ""
        ],
        [
         "6",
         "ZIG",
         "AJX82CZCW6",
         "ZAUDEVIPDRG014203",
         "IP1",
         "DRG1",
         "D9EC7C",
         "2024-06-30",
         "",
         "",
         "",
         "",
         ""
        ],
        [
         "7",
         "ZIG",
         "AJX7ZE2R4J",
         "ZAUDEVIPDRG014204",
         "IP1",
         "DRG1",
         "DF3Y5G",
         "2024-11-03",
         "",
         "",
         "",
         "",
         ""
        ],
        [
         "8",
         "ZIG",
         "AJXKU42AC9",
         "ZAUDEVIPDRG014205",
         "IP1",
         "DRG1",
         "D75KAK",
         "2025-05-20",
         "",
         "",
         "",
         "",
         ""
        ],
        [
         "9",
         "ZIG",
         "AJXZ69W9YC",
         "ZAUDEVIPDRG014206",
         "IP1",
         "DRG1",
         "DZ32U8",
         "2025-04-30",
         "",
         "",
         "",
         "",
         ""
        ],
        [
         "10",
         "ZIG",
         "AJXA7EJ5UJ",
         "ZAUDEVIPDRG014207",
         "IP1",
         "DRG1",
         "DJHS3K",
         "2025-05-27",
         "",
         "",
         "",
         "",
         ""
        ],
        [
         "11",
         "ZIG",
         "AJXW9RAF88",
         "ZAUDEVIPDRG014208",
         "IP1",
         "DRG1",
         "D9S4HY",
         "2025-05-19",
         "",
         "",
         "",
         "",
         ""
        ],
        [
         "12",
         "ZIG",
         "AJX3SHCK5W",
         "ZAUDEVIPDRG014209",
         "IP1",
         "DRG1",
         "DHHSG6",
         "2025-05-25",
         "",
         "",
         "",
         "",
         ""
        ],
        [
         "13",
         "ZIG",
         "AJXUJUH64G",
         "ZAUDEVIPDRG014210",
         "IP1",
         "DRG1",
         "D52UA5",
         "2025-05-21",
         "",
         "",
         "",
         "",
         ""
        ],
        [
         "14",
         "ZIG",
         "AJXCYWC636",
         "ZAUDEVIPDRG014211",
         "IP1",
         "DRG1",
         "D99KKA",
         "2025-05-20",
         "",
         "",
         "",
         "",
         ""
        ],
        [
         "15",
         "ZIG",
         "AJXFHA4ZA9",
         "ZAUDEVIPDRG014212",
         "IP1",
         "DRG1",
         "DYK7JY",
         "2025-06-02",
         "",
         "",
         "",
         "",
         ""
        ],
        [
         "16",
         "ZIG",
         "AJX9E5SHKH",
         "ZAUDEVIPDRG014213",
         "IP1",
         "DRG1",
         "D8SY32",
         "2025-03-13",
         "",
         "",
         "",
         "",
         ""
        ],
        [
         "17",
         "ZIG",
         "AJXCFK5F95",
         "ZAUDEVIPDRG014214",
         "IP1",
         "DRG1",
         "DSJU6S",
         "2024-08-06",
         "",
         "",
         "",
         "",
         ""
        ],
        [
         "18",
         "ZIG",
         "AJXRCK96YS",
         "ZAUDEVIPDRG014215",
         "IP1",
         "DRG1",
         "D9ERUW",
         "2025-05-01",
         "",
         "",
         "",
         "",
         ""
        ],
        [
         "19",
         "ZIG",
         "AJX5CU5ZR9",
         "ZAUDEVIPDRG014216",
         "IP1",
         "DRG1",
         "DK4G9A",
         "2025-06-18",
         "",
         "",
         "",
         "",
         ""
        ],
        [
         "20",
         "ZIG",
         "AJXUS7366E",
         "ZAUDEVIPDRG014217",
         "IP1",
         "DRG1",
         "D64KFG",
         "2025-01-11",
         "",
         "",
         "",
         "",
         ""
        ],
        [
         "21",
         "ZIG",
         "AJX5E2Z6GH",
         "ZAUDEVIPDRG014218",
         "IP1",
         "DRG1",
         "D68G74",
         "2025-05-01",
         "",
         "",
         "",
         "",
         ""
        ],
        [
         "22",
         "ZIG",
         "AJX4U343RG",
         "ZAUDEVIPDRG014219",
         "IP1",
         "DRG1",
         "DR5U9H",
         "2025-06-10",
         "",
         "",
         "",
         "",
         ""
        ],
        [
         "23",
         "ZIG",
         "AJXY83F6YK",
         "ZAUDEVIPDRG014220",
         "IP1",
         "DRG1",
         "DCRSGW",
         "2025-01-14",
         "",
         "",
         "",
         "",
         ""
        ],
        [
         "24",
         "ZIG",
         "AJX9Z38Z86",
         "ZAUDEVIPDRG014221",
         "IP1",
         "DRG1",
         "DS8FZ2",
         "2025-03-13",
         "",
         "",
         "",
         "",
         ""
        ],
        [
         "25",
         "ZIG",
         "AJXCFK25UA",
         "ZAUDEVIPDRG014222",
         "IP1",
         "DRG1",
         "DS642U",
         "2025-06-09",
         "",
         "",
         "",
         "",
         ""
        ],
        [
         "26",
         "ZIG",
         "AJXZG8942G",
         "ZAUDEVIPDRG014223",
         "IP1",
         "DRG1",
         "DK3KJ2",
         "2025-05-27",
         "",
         "",
         "",
         "",
         ""
        ],
        [
         "27",
         "ZIG",
         "AJX524UCEH",
         "ZAUDEVIPDRG014224",
         "IP1",
         "DRG1",
         "D576C2",
         "2025-04-29",
         "",
         "",
         "",
         "",
         ""
        ],
        [
         "28",
         "ZIG",
         "AJX7J6KJ8A",
         "ZAUDEVIPDRG014225",
         "IP1",
         "DRG1",
         "D766YS",
         "2025-05-23",
         "",
         "",
         "",
         "",
         ""
        ],
        [
         "29",
         "ZIG",
         "AJXC9HZGCF",
         "ZAUDEVIPDRG014226",
         "IP1",
         "DRG1",
         "DESR38",
         "2025-03-30",
         "",
         "",
         "",
         "",
         ""
        ],
        [
         "30",
         "ZIG",
         "AJXZSJSS6J",
         "ZAUDEVIPDRG014227",
         "IP1",
         "DRG1",
         "DK64GJ",
         "2025-05-14",
         "",
         "",
         "",
         "",
         ""
        ],
        [
         "31",
         "ZIG",
         "AJX2Y7HKEJ",
         "ZAUDEVIPDRG014228",
         "IP1",
         "DRG1",
         "D4KG3A",
         "2025-04-30",
         "",
         "",
         "",
         "",
         ""
        ],
        [
         "32",
         "ZIG",
         "AJXRYJSW3A",
         "ZAUDEVIPDRG014229",
         "IP1",
         "DRG1",
         "DCJ43Y",
         "2025-02-01",
         "",
         "",
         "",
         "",
         ""
        ],
        [
         "33",
         "ZIG",
         "AJX2HZEEY7",
         "ZAUDEVIPDRG014230",
         "IP1",
         "DRG1",
         "DUY9AA",
         "2025-04-22",
         "",
         "",
         "",
         "",
         ""
        ],
        [
         "34",
         "ZIG",
         "AJXA762AWH",
         "ZAUDEVIPDRG014231",
         "IP1",
         "DRG1",
         "DG7KAG",
         "2025-05-12",
         "",
         "",
         "",
         "",
         ""
        ],
        [
         "35",
         "ZIG",
         "AJXAHUUY4K",
         "ZAUDEVIPDRG014232",
         "IP1",
         "DRG1",
         "DS9RU7",
         "2025-05-28",
         "",
         "",
         "",
         "",
         ""
        ],
        [
         "36",
         "ZIG",
         "AJXYJSEJJR",
         "ZAUDEVIPDRG014233",
         "IP1",
         "DRG1",
         "DWGU65",
         "2025-05-22",
         "",
         "",
         "",
         "",
         ""
        ],
        [
         "37",
         "ZIG",
         "AJXRAS8R4S",
         "ZAUDEVIPDRG014234",
         "IP1",
         "DRG1",
         "D8JKGU",
         "2025-05-15",
         "",
         "",
         "",
         "",
         ""
        ],
        [
         "38",
         "ZIG",
         "AJXY46HFRE",
         "ZAUDEVIPDRG014235",
         "IP1",
         "DRG1",
         "DRGH97",
         "2025-06-21",
         "",
         "",
         "",
         "",
         ""
        ],
        [
         "39",
         "ZIG",
         "AJXH6U8G3S",
         "ZAUDEVIPDRG014236",
         "IP1",
         "DRG1",
         "DUG3C3",
         "2025-03-26",
         "",
         "",
         "",
         "",
         ""
        ],
        [
         "40",
         "ZIG",
         "AJX6EKCZGH",
         "ZAUDEVIPDRG014237",
         "IP1",
         "DRG1",
         "DAFH4U",
         "2025-06-04",
         "",
         "",
         "",
         "",
         ""
        ],
        [
         "41",
         "ZIG",
         "AJX858WY6Y",
         "ZAUDEVIPDRG014238",
         "IP1",
         "DRG1",
         "D43R86",
         "2025-02-21",
         "",
         "",
         "",
         "",
         ""
        ],
        [
         "42",
         "ZIG",
         "AJXSKSZJY6",
         "ZAUDEVIPDRG014239",
         "IP1",
         "DRG1",
         "DFAJFH",
         "2025-06-11",
         "",
         "",
         "",
         "",
         ""
        ],
        [
         "43",
         "ZIG",
         "AJXS8ZHHS2",
         "ZAUDEVIPDRG014240",
         "IP1",
         "DRG1",
         "DG85Y4",
         "2025-06-04",
         "",
         "",
         "",
         "",
         ""
        ],
        [
         "44",
         "ZIG",
         "AJXHC3EKEH",
         "ZAUDEVIPDRG014241",
         "IP1",
         "DRG1",
         "DC6ZCR",
         "2025-04-27",
         "",
         "",
         "",
         "",
         ""
        ],
        [
         "45",
         "ZIG",
         "AJXC38RGZ6",
         "ZAUDEVIPDRG014242",
         "IP1",
         "DRG1",
         "D745EY",
         "2024-09-23",
         "",
         "",
         "",
         "",
         ""
        ],
        [
         "46",
         "ZIG",
         "AJXSU2GEWW",
         "ZAUDEVIPDRG014243",
         "IP1",
         "DRG1",
         "D2EAEZ",
         "2025-06-15",
         "",
         "",
         "",
         "",
         ""
        ],
        [
         "47",
         "ZIG",
         "AJXYACEZ4H",
         "ZAUDEVIPDRG014244",
         "IP1",
         "DRG1",
         "D56UWR",
         "2025-06-01",
         "",
         "",
         "",
         "",
         ""
        ],
        [
         "48",
         "ZIG",
         "AJXH69JSE7",
         "ZAUDEVIPDRG014245",
         "IP1",
         "DRG1",
         "D75U3A",
         "2025-05-18",
         "",
         "",
         "",
         "",
         ""
        ],
        [
         "49",
         "ZIG",
         "AJXGGR3W5G",
         "ZAUDEVIPDRG014246",
         "IP1",
         "DRG1",
         "DSU6Y4",
         "2025-06-12",
         "",
         "",
         "",
         "",
         ""
        ]
       ],
       "shape": {
        "columns": 12,
        "rows": 839
       }
      },
      "text/html": [
       "<div>\n",
       "<style scoped>\n",
       "    .dataframe tbody tr th:only-of-type {\n",
       "        vertical-align: middle;\n",
       "    }\n",
       "\n",
       "    .dataframe tbody tr th {\n",
       "        vertical-align: top;\n",
       "    }\n",
       "\n",
       "    .dataframe thead th {\n",
       "        text-align: right;\n",
       "    }\n",
       "</style>\n",
       "<table border=\"1\" class=\"dataframe\">\n",
       "  <thead>\n",
       "    <tr style=\"text-align: right;\">\n",
       "      <th></th>\n",
       "      <th>Vendor Code</th>\n",
       "      <th>Adjudication Record Locator</th>\n",
       "      <th>Vendor Audit ID</th>\n",
       "      <th>Program Code</th>\n",
       "      <th>Vendor Concept ID</th>\n",
       "      <th>Member Record Locator</th>\n",
       "      <th>FDOS</th>\n",
       "      <th>Reference Claim Number</th>\n",
       "      <th>Opportunity Amount</th>\n",
       "      <th>Finding Reason Code</th>\n",
       "      <th>Audit Comments</th>\n",
       "      <th>NOTES</th>\n",
       "    </tr>\n",
       "  </thead>\n",
       "  <tbody>\n",
       "    <tr>\n",
       "      <th>0</th>\n",
       "      <td>ZIG</td>\n",
       "      <td>AJX6942UKZ</td>\n",
       "      <td>ZAUDEVIPDRG014197</td>\n",
       "      <td>IP1</td>\n",
       "      <td>DRG1</td>\n",
       "      <td>DG25Z9</td>\n",
       "      <td>2025-05-21</td>\n",
       "      <td></td>\n",
       "      <td></td>\n",
       "      <td></td>\n",
       "      <td></td>\n",
       "      <td></td>\n",
       "    </tr>\n",
       "    <tr>\n",
       "      <th>1</th>\n",
       "      <td>ZIG</td>\n",
       "      <td>AJX6ZSSFR4</td>\n",
       "      <td>ZAUDEVIPDRG014198</td>\n",
       "      <td>IP1</td>\n",
       "      <td>DRG1</td>\n",
       "      <td>D2W65K</td>\n",
       "      <td>2025-06-11</td>\n",
       "      <td></td>\n",
       "      <td></td>\n",
       "      <td></td>\n",
       "      <td></td>\n",
       "      <td></td>\n",
       "    </tr>\n",
       "    <tr>\n",
       "      <th>2</th>\n",
       "      <td>ZIG</td>\n",
       "      <td>AJXYF74GJH</td>\n",
       "      <td>ZAUDEVIPDRG014199</td>\n",
       "      <td>IP1</td>\n",
       "      <td>DRG1</td>\n",
       "      <td>DAE6K2</td>\n",
       "      <td>2025-06-11</td>\n",
       "      <td></td>\n",
       "      <td></td>\n",
       "      <td></td>\n",
       "      <td></td>\n",
       "      <td></td>\n",
       "    </tr>\n",
       "    <tr>\n",
       "      <th>3</th>\n",
       "      <td>ZIG</td>\n",
       "      <td>AJXS8C57WJ</td>\n",
       "      <td>ZAUDEVIPDRG014200</td>\n",
       "      <td>IP1</td>\n",
       "      <td>DRG1</td>\n",
       "      <td>D57FC2</td>\n",
       "      <td>2025-03-27</td>\n",
       "      <td></td>\n",
       "      <td></td>\n",
       "      <td></td>\n",
       "      <td></td>\n",
       "      <td></td>\n",
       "    </tr>\n",
       "    <tr>\n",
       "      <th>4</th>\n",
       "      <td>ZIG</td>\n",
       "      <td>AJXS274GZ5</td>\n",
       "      <td>ZAUDEVIPDRG014201</td>\n",
       "      <td>IP1</td>\n",
       "      <td>DRG1</td>\n",
       "      <td>DRJEUE</td>\n",
       "      <td>2025-05-13</td>\n",
       "      <td></td>\n",
       "      <td></td>\n",
       "      <td></td>\n",
       "      <td></td>\n",
       "      <td></td>\n",
       "    </tr>\n",
       "    <tr>\n",
       "      <th>...</th>\n",
       "      <td>...</td>\n",
       "      <td>...</td>\n",
       "      <td>...</td>\n",
       "      <td>...</td>\n",
       "      <td>...</td>\n",
       "      <td>...</td>\n",
       "      <td>...</td>\n",
       "      <td>...</td>\n",
       "      <td>...</td>\n",
       "      <td>...</td>\n",
       "      <td>...</td>\n",
       "      <td>...</td>\n",
       "    </tr>\n",
       "    <tr>\n",
       "      <th>5</th>\n",
       "      <td>ZIG</td>\n",
       "      <td>AJXR3JJ9HJ</td>\n",
       "      <td>ZAUDEVOP000856</td>\n",
       "      <td>OP1</td>\n",
       "      <td></td>\n",
       "      <td>DEY7KK</td>\n",
       "      <td>2022-10-20</td>\n",
       "      <td></td>\n",
       "      <td></td>\n",
       "      <td></td>\n",
       "      <td></td>\n",
       "      <td></td>\n",
       "    </tr>\n",
       "    <tr>\n",
       "      <th>6</th>\n",
       "      <td>ZIG</td>\n",
       "      <td>AJXWG9SUCG</td>\n",
       "      <td>ZAUDEVOP000857</td>\n",
       "      <td>OP1</td>\n",
       "      <td></td>\n",
       "      <td>DS99W5</td>\n",
       "      <td>2024-02-08</td>\n",
       "      <td></td>\n",
       "      <td></td>\n",
       "      <td></td>\n",
       "      <td></td>\n",
       "      <td></td>\n",
       "    </tr>\n",
       "    <tr>\n",
       "      <th>7</th>\n",
       "      <td>ZIG</td>\n",
       "      <td>AJXJAA3CW6</td>\n",
       "      <td>ZAUDEVOP000858</td>\n",
       "      <td>OP1</td>\n",
       "      <td></td>\n",
       "      <td>D822RR</td>\n",
       "      <td>2023-06-14</td>\n",
       "      <td></td>\n",
       "      <td></td>\n",
       "      <td></td>\n",
       "      <td></td>\n",
       "      <td></td>\n",
       "    </tr>\n",
       "    <tr>\n",
       "      <th>8</th>\n",
       "      <td>ZIG</td>\n",
       "      <td>AJXZS9G7K7</td>\n",
       "      <td>ZAUDEVOP000859</td>\n",
       "      <td>OP1</td>\n",
       "      <td></td>\n",
       "      <td>DWEH8W</td>\n",
       "      <td>2024-01-17</td>\n",
       "      <td></td>\n",
       "      <td></td>\n",
       "      <td></td>\n",
       "      <td></td>\n",
       "      <td></td>\n",
       "    </tr>\n",
       "    <tr>\n",
       "      <th>9</th>\n",
       "      <td>ZIG</td>\n",
       "      <td>AJXZUZRZUH</td>\n",
       "      <td>ZAUDEVOP000860</td>\n",
       "      <td>OP1</td>\n",
       "      <td></td>\n",
       "      <td>DGKUA9</td>\n",
       "      <td>2024-03-21</td>\n",
       "      <td></td>\n",
       "      <td></td>\n",
       "      <td></td>\n",
       "      <td></td>\n",
       "      <td></td>\n",
       "    </tr>\n",
       "  </tbody>\n",
       "</table>\n",
       "<p>839 rows × 12 columns</p>\n",
       "</div>"
      ],
      "text/plain": [
       "   Vendor Code Adjudication Record Locator    Vendor Audit ID Program Code  \\\n",
       "0          ZIG                  AJX6942UKZ  ZAUDEVIPDRG014197          IP1   \n",
       "1          ZIG                  AJX6ZSSFR4  ZAUDEVIPDRG014198          IP1   \n",
       "2          ZIG                  AJXYF74GJH  ZAUDEVIPDRG014199          IP1   \n",
       "3          ZIG                  AJXS8C57WJ  ZAUDEVIPDRG014200          IP1   \n",
       "4          ZIG                  AJXS274GZ5  ZAUDEVIPDRG014201          IP1   \n",
       "..         ...                         ...                ...          ...   \n",
       "5          ZIG                  AJXR3JJ9HJ     ZAUDEVOP000856          OP1   \n",
       "6          ZIG                  AJXWG9SUCG     ZAUDEVOP000857          OP1   \n",
       "7          ZIG                  AJXJAA3CW6     ZAUDEVOP000858          OP1   \n",
       "8          ZIG                  AJXZS9G7K7     ZAUDEVOP000859          OP1   \n",
       "9          ZIG                  AJXZUZRZUH     ZAUDEVOP000860          OP1   \n",
       "\n",
       "   Vendor Concept ID Member Record Locator        FDOS Reference Claim Number  \\\n",
       "0               DRG1                DG25Z9  2025-05-21                          \n",
       "1               DRG1                D2W65K  2025-06-11                          \n",
       "2               DRG1                DAE6K2  2025-06-11                          \n",
       "3               DRG1                D57FC2  2025-03-27                          \n",
       "4               DRG1                DRJEUE  2025-05-13                          \n",
       "..               ...                   ...         ...                    ...   \n",
       "5                                   DEY7KK  2022-10-20                          \n",
       "6                                   DS99W5  2024-02-08                          \n",
       "7                                   D822RR  2023-06-14                          \n",
       "8                                   DWEH8W  2024-01-17                          \n",
       "9                                   DGKUA9  2024-03-21                          \n",
       "\n",
       "   Opportunity Amount Finding Reason Code Audit Comments NOTES  \n",
       "0                                                               \n",
       "1                                                               \n",
       "2                                                               \n",
       "3                                                               \n",
       "4                                                               \n",
       "..                ...                 ...            ...   ...  \n",
       "5                                                               \n",
       "6                                                               \n",
       "7                                                               \n",
       "8                                                               \n",
       "9                                                               \n",
       "\n",
       "[839 rows x 12 columns]"
      ]
     },
     "execution_count": 28,
     "metadata": {},
     "output_type": "execute_result"
    }
   ],
   "source": [
    "final_claim_sub_all_programs = pd.concat([pipe_ip,pipe_profee,pipe_op])\n",
    "final_claim_sub_all_programs"
   ]
  },
  {
   "cell_type": "code",
   "execution_count": 29,
   "id": "2dee431b",
   "metadata": {},
   "outputs": [
    {
     "name": "stdout",
     "output_type": "stream",
     "text": [
      "total claims: 839\n"
     ]
    }
   ],
   "source": [
    "print(f'total claims: {final_claim_sub_all_programs.shape[0]}')"
   ]
  },
  {
   "cell_type": "code",
   "execution_count": 30,
   "id": "c1bc996f",
   "metadata": {},
   "outputs": [
    {
     "name": "stdout",
     "output_type": "stream",
     "text": [
      "null_columns: Vendor Concept ID\n",
      "null_columns: Reference Claim Number\n",
      "null_columns: Opportunity Amount\n",
      "null_columns: Finding Reason Code\n",
      "null_columns: Audit Comments\n",
      "null_columns: NOTES\n"
     ]
    }
   ],
   "source": [
    "for i in final_claim_sub_all_programs.columns:\n",
    "    if (final_claim_sub_all_programs[i].isnull() | (final_claim_sub_all_programs[i].str.strip() == '')).any():\n",
    "        print(\"null_columns:\", i)"
   ]
  },
  {
   "cell_type": "code",
   "execution_count": 31,
   "id": "10ec6c05",
   "metadata": {},
   "outputs": [
    {
     "data": {
      "text/plain": [
       "'20250818'"
      ]
     },
     "execution_count": 31,
     "metadata": {},
     "output_type": "execute_result"
    }
   ],
   "source": [
    "formatted_date = current_date.strftime(\"%Y%m%d\")\n",
    "formatted_date"
   ]
  },
  {
   "cell_type": "code",
   "execution_count": 32,
   "id": "e2c7d047",
   "metadata": {},
   "outputs": [],
   "source": [
    "file_name=f\"ZIGIP1OP1PROF1toDevoted_Submission_{formatted_date}.txt\"\n",
    "out_put_dir=r\"D:\\temp\""
   ]
  },
  {
   "cell_type": "code",
   "execution_count": 33,
   "id": "04ef08c4",
   "metadata": {},
   "outputs": [
    {
     "data": {
      "text/plain": [
       "'D:\\\\temp\\\\ZIGIP1OP1PROF1toDevoted_Submission_20250818.txt'"
      ]
     },
     "execution_count": 33,
     "metadata": {},
     "output_type": "execute_result"
    }
   ],
   "source": [
    "fr\"{out_put_dir}\\{file_name}\""
   ]
  },
  {
   "cell_type": "markdown",
   "id": "821a4fda",
   "metadata": {},
   "source": [
    "# Final claim submission file"
   ]
  },
  {
   "cell_type": "code",
   "execution_count": null,
   "id": "82f02bc9",
   "metadata": {},
   "outputs": [],
   "source": [
    "final_claim_sub_all_programs.to_csv(fr\"{out_put_dir}\\{file_name}\", sep = '|', index= False)"
   ]
  },
  {
   "cell_type": "markdown",
   "id": "abd3b061",
   "metadata": {},
   "source": [
    "END"
   ]
  },
  {
   "cell_type": "markdown",
   "id": "e6470462",
   "metadata": {},
   "source": [
    "# Selections table"
   ]
  },
  {
   "cell_type": "code",
   "execution_count": 34,
   "id": "d017edf0",
   "metadata": {},
   "outputs": [
    {
     "data": {
      "application/vnd.microsoft.datawrangler.viewer.v0+json": {
       "columns": [
        {
         "name": "index",
         "rawType": "int64",
         "type": "integer"
        },
        {
         "name": "adjudication_record_locator",
         "rawType": "object",
         "type": "string"
        },
        {
         "name": "query_name",
         "rawType": "object",
         "type": "string"
        },
        {
         "name": "template_name",
         "rawType": "object",
         "type": "string"
        }
       ],
       "ref": "069e9629-3137-4a3c-a6f8-5fd9a9bab026",
       "rows": [
        [
         "0",
         "AJXGZHASA8",
         "prof_cci_medadv_anterior_instrumentation",
         "PROFEE"
        ],
        [
         "1",
         "AJXGZHASA8",
         "prof_cci_medadv_anterior_instrumentation",
         "PROFEE"
        ],
        [
         "2",
         "AJXGZHASA8",
         "prof_cci_medadv_anterior_instrumentation",
         "PROFEE"
        ],
        [
         "3",
         "AJXGZHASA8",
         "prof_cci_medadv_anterior_instrumentation",
         "PROFEE"
        ],
        [
         "4",
         "AJX2487H7S",
         "prof_cci_medadv_anterior_instrumentation",
         "PROFEE"
        ],
        [
         "5",
         "AJX2487H7S",
         "prof_cci_medadv_anterior_instrumentation",
         "PROFEE"
        ],
        [
         "6",
         "AJX2487H7S",
         "prof_cci_medadv_anterior_instrumentation",
         "PROFEE"
        ],
        [
         "7",
         "AJXG256AZR",
         "prof_cci_medadv_anterior_instrumentation",
         "PROFEE"
        ],
        [
         "8",
         "AJXG256AZR",
         "prof_cci_medadv_anterior_instrumentation",
         "PROFEE"
        ],
        [
         "9",
         "AJXG256AZR",
         "prof_cci_medadv_anterior_instrumentation",
         "PROFEE"
        ],
        [
         "10",
         "AJXG256AZR",
         "prof_cci_medadv_anterior_instrumentation",
         "PROFEE"
        ],
        [
         "11",
         "AJX9WJW76Z",
         "prof_cci_medadv_anterior_instrumentation",
         "PROFEE"
        ],
        [
         "12",
         "AJX9WJW76Z",
         "prof_cci_medadv_anterior_instrumentation",
         "PROFEE"
        ],
        [
         "13",
         "AJX9WJW76Z",
         "prof_cci_medadv_anterior_instrumentation",
         "PROFEE"
        ],
        [
         "14",
         "AJX9WJW76Z",
         "prof_cci_medadv_anterior_instrumentation",
         "PROFEE"
        ],
        [
         "15",
         "AJXJ24Z79H",
         "prof_cci_medadv_anterior_instrumentation",
         "PROFEE"
        ],
        [
         "16",
         "AJXJ24Z79H",
         "prof_cci_medadv_anterior_instrumentation",
         "PROFEE"
        ],
        [
         "17",
         "AJXJ24Z79H",
         "prof_cci_medadv_anterior_instrumentation",
         "PROFEE"
        ],
        [
         "18",
         "AJXJ24Z79H",
         "prof_cci_medadv_anterior_instrumentation",
         "PROFEE"
        ],
        [
         "19",
         "AJXJ24Z79H",
         "prof_cci_medadv_anterior_instrumentation",
         "PROFEE"
        ],
        [
         "20",
         "AJXJ24Z79H",
         "prof_cci_medadv_anterior_instrumentation",
         "PROFEE"
        ],
        [
         "21",
         "AJXWES36E9",
         "prof_cci_medadv_anterior_instrumentation",
         "PROFEE"
        ],
        [
         "22",
         "AJXWES36E9",
         "prof_cci_medadv_anterior_instrumentation",
         "PROFEE"
        ],
        [
         "23",
         "AJXWES36E9",
         "prof_cci_medadv_anterior_instrumentation",
         "PROFEE"
        ],
        [
         "24",
         "AJXWES36E9",
         "prof_cci_medadv_anterior_instrumentation",
         "PROFEE"
        ],
        [
         "25",
         "AJXKA2U49S",
         "prof_cci_medadv_anterior_instrumentation",
         "PROFEE"
        ],
        [
         "26",
         "AJXKA2U49S",
         "prof_cci_medadv_anterior_instrumentation",
         "PROFEE"
        ],
        [
         "27",
         "AJXKA2U49S",
         "prof_cci_medadv_anterior_instrumentation",
         "PROFEE"
        ],
        [
         "28",
         "AJXKA2U49S",
         "prof_cci_medadv_anterior_instrumentation",
         "PROFEE"
        ],
        [
         "29",
         "AJXAA6E3HA",
         "PROF_CCI_MEDADV_Debrid_Ankle",
         "PROFEE"
        ],
        [
         "30",
         "AJXAA6E3HA",
         "PROF_CCI_MEDADV_Debrid_Ankle",
         "PROFEE"
        ],
        [
         "31",
         "AJXAA6E3HA",
         "PROF_CCI_MEDADV_Debrid_Ankle",
         "PROFEE"
        ],
        [
         "32",
         "AJXSFYUGW4",
         "prof_cci_medadv_anterior_instrumentation",
         "PROFEE"
        ],
        [
         "33",
         "AJXSFYUGW4",
         "prof_cci_medadv_anterior_instrumentation",
         "PROFEE"
        ],
        [
         "34",
         "AJXSFYUGW4",
         "prof_cci_medadv_anterior_instrumentation",
         "PROFEE"
        ],
        [
         "35",
         "AJXSFYUGW4",
         "prof_cci_medadv_anterior_instrumentation",
         "PROFEE"
        ],
        [
         "36",
         "AJXSFYUGW4",
         "prof_cci_medadv_anterior_instrumentation",
         "PROFEE"
        ],
        [
         "37",
         "AJXSFYUGW4",
         "prof_cci_medadv_anterior_instrumentation",
         "PROFEE"
        ],
        [
         "38",
         "AJXZRGGK3R",
         "prof_bundle_medadv_laryngoscopy",
         "PROFEE"
        ],
        [
         "39",
         "AJXZRGGK3R",
         "prof_bundle_medadv_laryngoscopy",
         "PROFEE"
        ],
        [
         "40",
         "AJXZRGGK3R",
         "prof_bundle_medadv_laryngoscopy",
         "PROFEE"
        ],
        [
         "41",
         "AJXYRA6CRC",
         "prof_bundle_medadv_cath_revasc",
         "PROFEE"
        ],
        [
         "42",
         "AJXYRA6CRC",
         "prof_bundle_medadv_cath_revasc",
         "PROFEE"
        ],
        [
         "43",
         "AJXYRA6CRC",
         "prof_bundle_medadv_cath_revasc",
         "PROFEE"
        ],
        [
         "44",
         "AJXYRA6CRC",
         "prof_bundle_medadv_cath_revasc",
         "PROFEE"
        ],
        [
         "45",
         "AJX5JE9J2S",
         "prof_cci_medadv_anterior_instrumentation",
         "PROFEE"
        ],
        [
         "46",
         "AJX5JE9J2S",
         "prof_cci_medadv_anterior_instrumentation",
         "PROFEE"
        ],
        [
         "47",
         "AJX5JE9J2S",
         "prof_cci_medadv_anterior_instrumentation",
         "PROFEE"
        ],
        [
         "48",
         "AJX5JE9J2S",
         "prof_cci_medadv_anterior_instrumentation",
         "PROFEE"
        ],
        [
         "49",
         "AJXYAY7ZZ4",
         "prof_bundle_medadv_cvc_replace",
         "PROFEE"
        ]
       ],
       "shape": {
        "columns": 3,
        "rows": 66
       }
      },
      "text/html": [
       "<div>\n",
       "<style scoped>\n",
       "    .dataframe tbody tr th:only-of-type {\n",
       "        vertical-align: middle;\n",
       "    }\n",
       "\n",
       "    .dataframe tbody tr th {\n",
       "        vertical-align: top;\n",
       "    }\n",
       "\n",
       "    .dataframe thead th {\n",
       "        text-align: right;\n",
       "    }\n",
       "</style>\n",
       "<table border=\"1\" class=\"dataframe\">\n",
       "  <thead>\n",
       "    <tr style=\"text-align: right;\">\n",
       "      <th></th>\n",
       "      <th>adjudication_record_locator</th>\n",
       "      <th>query_name</th>\n",
       "      <th>template_name</th>\n",
       "    </tr>\n",
       "  </thead>\n",
       "  <tbody>\n",
       "    <tr>\n",
       "      <th>0</th>\n",
       "      <td>AJXGZHASA8</td>\n",
       "      <td>prof_cci_medadv_anterior_instrumentation</td>\n",
       "      <td>PROFEE</td>\n",
       "    </tr>\n",
       "    <tr>\n",
       "      <th>1</th>\n",
       "      <td>AJXGZHASA8</td>\n",
       "      <td>prof_cci_medadv_anterior_instrumentation</td>\n",
       "      <td>PROFEE</td>\n",
       "    </tr>\n",
       "    <tr>\n",
       "      <th>2</th>\n",
       "      <td>AJXGZHASA8</td>\n",
       "      <td>prof_cci_medadv_anterior_instrumentation</td>\n",
       "      <td>PROFEE</td>\n",
       "    </tr>\n",
       "    <tr>\n",
       "      <th>3</th>\n",
       "      <td>AJXGZHASA8</td>\n",
       "      <td>prof_cci_medadv_anterior_instrumentation</td>\n",
       "      <td>PROFEE</td>\n",
       "    </tr>\n",
       "    <tr>\n",
       "      <th>4</th>\n",
       "      <td>AJX2487H7S</td>\n",
       "      <td>prof_cci_medadv_anterior_instrumentation</td>\n",
       "      <td>PROFEE</td>\n",
       "    </tr>\n",
       "    <tr>\n",
       "      <th>...</th>\n",
       "      <td>...</td>\n",
       "      <td>...</td>\n",
       "      <td>...</td>\n",
       "    </tr>\n",
       "    <tr>\n",
       "      <th>61</th>\n",
       "      <td>AJXZ459A87</td>\n",
       "      <td>prof_cci_medadv_anterior_instrumentation</td>\n",
       "      <td>PROFEE</td>\n",
       "    </tr>\n",
       "    <tr>\n",
       "      <th>62</th>\n",
       "      <td>AJXZ459A87</td>\n",
       "      <td>prof_cci_medadv_anterior_instrumentation</td>\n",
       "      <td>PROFEE</td>\n",
       "    </tr>\n",
       "    <tr>\n",
       "      <th>0</th>\n",
       "      <td>AJXGCA5W28</td>\n",
       "      <td>all_bundle_medadv_32408</td>\n",
       "      <td>PROFEE</td>\n",
       "    </tr>\n",
       "    <tr>\n",
       "      <th>1</th>\n",
       "      <td>AJXGCA5W28</td>\n",
       "      <td>all_bundle_medadv_32408</td>\n",
       "      <td>PROFEE</td>\n",
       "    </tr>\n",
       "    <tr>\n",
       "      <th>2</th>\n",
       "      <td>AJXGCA5W28</td>\n",
       "      <td>all_bundle_medadv_32408</td>\n",
       "      <td>PROFEE</td>\n",
       "    </tr>\n",
       "  </tbody>\n",
       "</table>\n",
       "<p>66 rows × 3 columns</p>\n",
       "</div>"
      ],
      "text/plain": [
       "   adjudication_record_locator                                query_name  \\\n",
       "0                   AJXGZHASA8  prof_cci_medadv_anterior_instrumentation   \n",
       "1                   AJXGZHASA8  prof_cci_medadv_anterior_instrumentation   \n",
       "2                   AJXGZHASA8  prof_cci_medadv_anterior_instrumentation   \n",
       "3                   AJXGZHASA8  prof_cci_medadv_anterior_instrumentation   \n",
       "4                   AJX2487H7S  prof_cci_medadv_anterior_instrumentation   \n",
       "..                         ...                                       ...   \n",
       "61                  AJXZ459A87  prof_cci_medadv_anterior_instrumentation   \n",
       "62                  AJXZ459A87  prof_cci_medadv_anterior_instrumentation   \n",
       "0                   AJXGCA5W28                   all_bundle_medadv_32408   \n",
       "1                   AJXGCA5W28                   all_bundle_medadv_32408   \n",
       "2                   AJXGCA5W28                   all_bundle_medadv_32408   \n",
       "\n",
       "   template_name  \n",
       "0         PROFEE  \n",
       "1         PROFEE  \n",
       "2         PROFEE  \n",
       "3         PROFEE  \n",
       "4         PROFEE  \n",
       "..           ...  \n",
       "61        PROFEE  \n",
       "62        PROFEE  \n",
       "0         PROFEE  \n",
       "1         PROFEE  \n",
       "2         PROFEE  \n",
       "\n",
       "[66 rows x 3 columns]"
      ]
     },
     "execution_count": 34,
     "metadata": {},
     "output_type": "execute_result"
    }
   ],
   "source": [
    "df_profee['template_name'] = 'PROFEE'\n",
    "df_profee[['adjudication_record_locator','query_name', 'template_name']]\n",
    "\n",
    "# df_profee.to_excel()"
   ]
  },
  {
   "cell_type": "code",
   "execution_count": null,
   "id": "582de4af",
   "metadata": {},
   "outputs": [
    {
     "data": {
      "application/vnd.microsoft.datawrangler.viewer.v0+json": {
       "columns": [
        {
         "name": "index",
         "rawType": "int64",
         "type": "integer"
        },
        {
         "name": "adjudication_record_locator",
         "rawType": "object",
         "type": "string"
        },
        {
         "name": "query_name",
         "rawType": "object",
         "type": "string"
        },
        {
         "name": "template_name",
         "rawType": "object",
         "type": "string"
        }
       ],
       "ref": "f93331bb-4bc8-4296-9b0a-d74447bba85e",
       "rows": [
        [
         "0",
         "AJXG6GS2GK",
         "prof_bundle_medadv_ptp",
         "OP1"
        ],
        [
         "1",
         "AJXG6GS2GK",
         "prof_bundle_medadv_ptp",
         "OP1"
        ],
        [
         "2",
         "AJXG6GS2GK",
         "prof_bundle_medadv_ptp",
         "OP1"
        ],
        [
         "3",
         "AJXG6GS2GK",
         "prof_bundle_medadv_ptp",
         "OP1"
        ],
        [
         "4",
         "AJXG6GS2GK",
         "prof_bundle_medadv_ptp",
         "OP1"
        ],
        [
         "5",
         "AJXG6GS2GK",
         "prof_bundle_medadv_ptp",
         "OP1"
        ],
        [
         "6",
         "AJXG6GS2GK",
         "prof_bundle_medadv_ptp",
         "OP1"
        ],
        [
         "7",
         "AJXG6GS2GK",
         "prof_bundle_medadv_ptp",
         "OP1"
        ],
        [
         "8",
         "AJXG6GS2GK",
         "prof_bundle_medadv_ptp",
         "OP1"
        ],
        [
         "9",
         "AJXG6GS2GK",
         "prof_bundle_medadv_ptp",
         "OP1"
        ],
        [
         "10",
         "AJXG6GS2GK",
         "prof_bundle_medadv_ptp",
         "OP1"
        ],
        [
         "11",
         "AJXG6GS2GK",
         "prof_bundle_medadv_ptp",
         "OP1"
        ],
        [
         "12",
         "AJXG6GS2GK",
         "prof_bundle_medadv_ptp",
         "OP1"
        ],
        [
         "13",
         "AJXG6GS2GK",
         "prof_bundle_medadv_ptp",
         "OP1"
        ],
        [
         "14",
         "AJXG6GS2GK",
         "prof_bundle_medadv_ptp",
         "OP1"
        ],
        [
         "15",
         "AJXG6GS2GK",
         "prof_bundle_medadv_ptp",
         "OP1"
        ],
        [
         "16",
         "AJXG6GS2GK",
         "prof_bundle_medadv_ptp",
         "OP1"
        ],
        [
         "17",
         "AJXG6GS2GK",
         "prof_bundle_medadv_ptp",
         "OP1"
        ],
        [
         "18",
         "AJXG6GS2GK",
         "prof_bundle_medadv_ptp",
         "OP1"
        ],
        [
         "19",
         "AJXG6GS2GK",
         "prof_bundle_medadv_ptp",
         "OP1"
        ],
        [
         "20",
         "AJXG6GS2GK",
         "prof_bundle_medadv_ptp",
         "OP1"
        ],
        [
         "21",
         "AJXG6GS2GK",
         "prof_bundle_medadv_ptp",
         "OP1"
        ],
        [
         "22",
         "AJXG6GS2GK",
         "prof_bundle_medadv_ptp",
         "OP1"
        ],
        [
         "23",
         "AJXG6GS2GK",
         "prof_bundle_medadv_ptp",
         "OP1"
        ],
        [
         "24",
         "AJXG6GS2GK",
         "prof_bundle_medadv_ptp",
         "OP1"
        ],
        [
         "25",
         "AJXG6GS2GK",
         "prof_bundle_medadv_ptp",
         "OP1"
        ],
        [
         "26",
         "AJXG6GS2GK",
         "prof_bundle_medadv_ptp",
         "OP1"
        ],
        [
         "27",
         "AJXG6GS2GK",
         "prof_bundle_medadv_ptp",
         "OP1"
        ],
        [
         "28",
         "AJXG6GS2GK",
         "prof_bundle_medadv_ptp",
         "OP1"
        ],
        [
         "29",
         "AJXG6GS2GK",
         "prof_bundle_medadv_ptp",
         "OP1"
        ],
        [
         "30",
         "AJXG6GS2GK",
         "prof_bundle_medadv_ptp",
         "OP1"
        ],
        [
         "31",
         "AJXG6GS2GK",
         "prof_bundle_medadv_ptp",
         "OP1"
        ],
        [
         "32",
         "AJXG6GS2GK",
         "prof_bundle_medadv_ptp",
         "OP1"
        ],
        [
         "33",
         "AJXY9JWRGY",
         "prof_bundle_medadv_ptp",
         "OP1"
        ],
        [
         "34",
         "AJXY9JWRGY",
         "prof_bundle_medadv_ptp",
         "OP1"
        ],
        [
         "35",
         "AJX9KJ5H3W",
         "prof_bundle_medadv_ptp",
         "OP1"
        ],
        [
         "36",
         "AJX9KJ5H3W",
         "prof_bundle_medadv_ptp",
         "OP1"
        ],
        [
         "37",
         "AJX9KJ5H3W",
         "prof_bundle_medadv_ptp",
         "OP1"
        ],
        [
         "38",
         "AJX9KJ5H3W",
         "prof_bundle_medadv_ptp",
         "OP1"
        ],
        [
         "39",
         "AJX9WWFSHH",
         "prof_bundle_medadv_ptp",
         "OP1"
        ],
        [
         "40",
         "AJX9WWFSHH",
         "prof_bundle_medadv_ptp",
         "OP1"
        ],
        [
         "41",
         "AJXF9C7KAR",
         "prof_bundle_medadv_ptp",
         "OP1"
        ],
        [
         "42",
         "AJXF9C7KAR",
         "prof_bundle_medadv_ptp",
         "OP1"
        ],
        [
         "43",
         "AJXF9C7KAR",
         "prof_bundle_medadv_ptp",
         "OP1"
        ],
        [
         "44",
         "AJXF9C7KAR",
         "prof_bundle_medadv_ptp",
         "OP1"
        ],
        [
         "45",
         "AJXF9C7KAR",
         "prof_bundle_medadv_ptp",
         "OP1"
        ],
        [
         "46",
         "AJXF9C7KAR",
         "prof_bundle_medadv_ptp",
         "OP1"
        ],
        [
         "47",
         "AJXF9C7KAR",
         "prof_bundle_medadv_ptp",
         "OP1"
        ],
        [
         "48",
         "AJXF9C7KAR",
         "prof_bundle_medadv_ptp",
         "OP1"
        ],
        [
         "49",
         "AJXR3JJ9HJ",
         "prof_bundle_medadv_ptp",
         "OP1"
        ]
       ],
       "shape": {
        "columns": 3,
        "rows": 114
       }
      },
      "text/html": [
       "<div>\n",
       "<style scoped>\n",
       "    .dataframe tbody tr th:only-of-type {\n",
       "        vertical-align: middle;\n",
       "    }\n",
       "\n",
       "    .dataframe tbody tr th {\n",
       "        vertical-align: top;\n",
       "    }\n",
       "\n",
       "    .dataframe thead th {\n",
       "        text-align: right;\n",
       "    }\n",
       "</style>\n",
       "<table border=\"1\" class=\"dataframe\">\n",
       "  <thead>\n",
       "    <tr style=\"text-align: right;\">\n",
       "      <th></th>\n",
       "      <th>adjudication_record_locator</th>\n",
       "      <th>query_name</th>\n",
       "      <th>template_name</th>\n",
       "    </tr>\n",
       "  </thead>\n",
       "  <tbody>\n",
       "    <tr>\n",
       "      <th>0</th>\n",
       "      <td>AJXG6GS2GK</td>\n",
       "      <td>prof_bundle_medadv_ptp</td>\n",
       "      <td>OP1</td>\n",
       "    </tr>\n",
       "    <tr>\n",
       "      <th>1</th>\n",
       "      <td>AJXG6GS2GK</td>\n",
       "      <td>prof_bundle_medadv_ptp</td>\n",
       "      <td>OP1</td>\n",
       "    </tr>\n",
       "    <tr>\n",
       "      <th>2</th>\n",
       "      <td>AJXG6GS2GK</td>\n",
       "      <td>prof_bundle_medadv_ptp</td>\n",
       "      <td>OP1</td>\n",
       "    </tr>\n",
       "    <tr>\n",
       "      <th>3</th>\n",
       "      <td>AJXG6GS2GK</td>\n",
       "      <td>prof_bundle_medadv_ptp</td>\n",
       "      <td>OP1</td>\n",
       "    </tr>\n",
       "    <tr>\n",
       "      <th>4</th>\n",
       "      <td>AJXG6GS2GK</td>\n",
       "      <td>prof_bundle_medadv_ptp</td>\n",
       "      <td>OP1</td>\n",
       "    </tr>\n",
       "    <tr>\n",
       "      <th>...</th>\n",
       "      <td>...</td>\n",
       "      <td>...</td>\n",
       "      <td>...</td>\n",
       "    </tr>\n",
       "    <tr>\n",
       "      <th>109</th>\n",
       "      <td>AJXZUZRZUH</td>\n",
       "      <td>prof_bundle_medadv_ptp</td>\n",
       "      <td>OP1</td>\n",
       "    </tr>\n",
       "    <tr>\n",
       "      <th>110</th>\n",
       "      <td>AJXZUZRZUH</td>\n",
       "      <td>prof_bundle_medadv_ptp</td>\n",
       "      <td>OP1</td>\n",
       "    </tr>\n",
       "    <tr>\n",
       "      <th>111</th>\n",
       "      <td>AJXZUZRZUH</td>\n",
       "      <td>prof_bundle_medadv_ptp</td>\n",
       "      <td>OP1</td>\n",
       "    </tr>\n",
       "    <tr>\n",
       "      <th>112</th>\n",
       "      <td>AJXZUZRZUH</td>\n",
       "      <td>prof_bundle_medadv_ptp</td>\n",
       "      <td>OP1</td>\n",
       "    </tr>\n",
       "    <tr>\n",
       "      <th>113</th>\n",
       "      <td>AJXZUZRZUH</td>\n",
       "      <td>prof_bundle_medadv_ptp</td>\n",
       "      <td>OP1</td>\n",
       "    </tr>\n",
       "  </tbody>\n",
       "</table>\n",
       "<p>114 rows × 3 columns</p>\n",
       "</div>"
      ],
      "text/plain": [
       "    adjudication_record_locator              query_name template_name\n",
       "0                    AJXG6GS2GK  prof_bundle_medadv_ptp           OP1\n",
       "1                    AJXG6GS2GK  prof_bundle_medadv_ptp           OP1\n",
       "2                    AJXG6GS2GK  prof_bundle_medadv_ptp           OP1\n",
       "3                    AJXG6GS2GK  prof_bundle_medadv_ptp           OP1\n",
       "4                    AJXG6GS2GK  prof_bundle_medadv_ptp           OP1\n",
       "..                          ...                     ...           ...\n",
       "109                  AJXZUZRZUH  prof_bundle_medadv_ptp           OP1\n",
       "110                  AJXZUZRZUH  prof_bundle_medadv_ptp           OP1\n",
       "111                  AJXZUZRZUH  prof_bundle_medadv_ptp           OP1\n",
       "112                  AJXZUZRZUH  prof_bundle_medadv_ptp           OP1\n",
       "113                  AJXZUZRZUH  prof_bundle_medadv_ptp           OP1\n",
       "\n",
       "[114 rows x 3 columns]"
      ]
     },
     "execution_count": 35,
     "metadata": {},
     "output_type": "execute_result"
    }
   ],
   "source": [
    "df_op['template_name'] = 'OP1'\n",
    "df_op[['adjudication_record_locator', 'query_name', 'template_name']]\n",
    "\n",
    "# df_op.to_excel()"
   ]
  },
  {
   "cell_type": "markdown",
   "id": "fd0155d0",
   "metadata": {},
   "source": [
    "IP selection table"
   ]
  },
  {
   "cell_type": "code",
   "execution_count": null,
   "id": "db3144fd",
   "metadata": {},
   "outputs": [
    {
     "data": {
      "application/vnd.microsoft.datawrangler.viewer.v0+json": {
       "columns": [
        {
         "name": "index",
         "rawType": "int64",
         "type": "integer"
        },
        {
         "name": "adjudication_record_locator",
         "rawType": "object",
         "type": "string"
        },
        {
         "name": "query_name",
         "rawType": "object",
         "type": "string"
        },
        {
         "name": "template_name",
         "rawType": "object",
         "type": "string"
        }
       ],
       "ref": "68067a68-1f34-452c-9561-27877928ed3d",
       "rows": [
        [
         "0",
         "AJX6942UKZ",
         "drg_cva_medadv_1mcc_acutechf",
         "MISC"
        ],
        [
         "1",
         "AJX6942UKZ",
         "drg_cva_medadv_1mcc_acutechf",
         "MISC"
        ],
        [
         "2",
         "AJX6ZSSFR4",
         "drg_cva_medadv_1cc_abla",
         "MISC"
        ],
        [
         "3",
         "AJXYF74GJH",
         "drg_cva_medadv_1mcc_ami",
         "MISC"
        ],
        [
         "4",
         "AJXYF74GJH",
         "drg_cva_medadv_1mcc_ami",
         "MISC"
        ],
        [
         "5",
         "AJXS8C57WJ",
         "drg_cva_medadv_1mcc_encephalopathy",
         "ENCEPHALOPATHY"
        ],
        [
         "6",
         "AJXS8C57WJ",
         "drg_cva_medadv_1mcc_encephalopathy",
         "ENCEPHALOPATHY"
        ],
        [
         "7",
         "AJXS274GZ5",
         "drg_cva_medadv_1mcc_braincompression",
         "MISC"
        ],
        [
         "8",
         "AJXS274GZ5",
         "drg_cva_medadv_1mcc_braincompression",
         "MISC"
        ],
        [
         "9",
         "AJXS274GZ5",
         "drg_cva_medadv_1mcc_braincompression",
         "MISC"
        ],
        [
         "10",
         "AJX3636YSW",
         "drg_cva_medadv_1mcc_acutepancreatitis",
         "MISC"
        ],
        [
         "11",
         "AJX3636YSW",
         "drg_cva_medadv_1mcc_acutepancreatitis",
         "MISC"
        ],
        [
         "12",
         "AJX82CZCW6",
         "drg_cva_medadv_1mcc_acuterespfailure, drg_cva_medadv_1mcc_generalrespfailure",
         "MISC"
        ],
        [
         "13",
         "AJX7ZE2R4J",
         "drg_cva_medadv_1mcc_encephalopathy",
         "ENCEPHALOPATHY"
        ],
        [
         "14",
         "AJX7ZE2R4J",
         "drg_cva_medadv_1mcc_encephalopathy",
         "ENCEPHALOPATHY"
        ],
        [
         "15",
         "AJXKU42AC9",
         "drg_cva_medadv_1cc_chronicrespfailure",
         "MISC"
        ],
        [
         "16",
         "AJXZ69W9YC",
         "drg_cva_medadv_1mcc_atn",
         "MISC"
        ],
        [
         "17",
         "AJXA7EJ5UJ",
         "drg_cva_medadv_1mcc_acuterespfailure, drg_cva_medadv_1mcc_generalrespfailure",
         "MISC"
        ],
        [
         "18",
         "AJXA7EJ5UJ",
         "drg_cva_medadv_1mcc_acuterespfailure, drg_cva_medadv_1mcc_generalrespfailure",
         "MISC"
        ],
        [
         "19",
         "AJXW9RAF88",
         "drg_cva_medadv_1mcc_encephalopathy",
         "ENCEPHALOPATHY"
        ],
        [
         "20",
         "AJXW9RAF88",
         "drg_cva_medadv_1mcc_encephalopathy",
         "ENCEPHALOPATHY"
        ],
        [
         "21",
         "AJX3SHCK5W",
         "drg_cva_medadv_1mcc_acuterespfailure, drg_cva_medadv_1mcc_generalrespfailure",
         "MISC"
        ],
        [
         "22",
         "AJX3SHCK5W",
         "drg_cva_medadv_1mcc_acuterespfailure, drg_cva_medadv_1mcc_generalrespfailure",
         "MISC"
        ],
        [
         "23",
         "AJXUJUH64G",
         "drg_cva_medadv_1mcc_encephalopathy",
         "ENCEPHALOPATHY"
        ],
        [
         "24",
         "AJXUJUH64G",
         "drg_cva_medadv_1mcc_encephalopathy",
         "ENCEPHALOPATHY"
        ],
        [
         "25",
         "AJXCYWC636",
         "drg_cva_medadv_1mcc_encephalopathy",
         "ENCEPHALOPATHY"
        ],
        [
         "26",
         "AJXCYWC636",
         "drg_cva_medadv_1mcc_encephalopathy",
         "ENCEPHALOPATHY"
        ],
        [
         "27",
         "AJXCYWC636",
         "drg_cva_medadv_1mcc_encephalopathy",
         "ENCEPHALOPATHY"
        ],
        [
         "28",
         "AJXCYWC636",
         "drg_cva_medadv_1mcc_encephalopathy",
         "ENCEPHALOPATHY"
        ],
        [
         "29",
         "AJXCYWC636",
         "drg_cva_medadv_1mcc_encephalopathy",
         "ENCEPHALOPATHY"
        ],
        [
         "30",
         "AJXFHA4ZA9",
         "drg_cva_medadv_1cc_ileus",
         "MISC"
        ],
        [
         "31",
         "AJXFHA4ZA9",
         "drg_cva_medadv_1cc_ileus",
         "MISC"
        ],
        [
         "32",
         "AJX9E5SHKH",
         "drg_cva_medadv_1mcc_encephalopathy",
         "ENCEPHALOPATHY"
        ],
        [
         "33",
         "AJXCFK5F95",
         "drg_cva_medadv_1mcc_braincompression",
         "MISC"
        ],
        [
         "34",
         "AJXCFK5F95",
         "drg_cva_medadv_1mcc_braincompression",
         "MISC"
        ],
        [
         "35",
         "AJXRCK96YS",
         "drg_cva_medadv_1mcc_encephalopathy",
         "ENCEPHALOPATHY"
        ],
        [
         "36",
         "AJXRCK96YS",
         "drg_cva_medadv_1mcc_encephalopathy",
         "ENCEPHALOPATHY"
        ],
        [
         "37",
         "AJX5CU5ZR9",
         "drg_cva_medadv_1cc_abla",
         "MISC"
        ],
        [
         "38",
         "AJXUS7366E",
         "drg_cva_medadv_1mcc_encephalopathy",
         "ENCEPHALOPATHY"
        ],
        [
         "39",
         "AJX5E2Z6GH",
         "drg_cva_medadv_1cc_hyponatremia",
         "MISC"
        ],
        [
         "40",
         "AJX5E2Z6GH",
         "drg_cva_medadv_1cc_hyponatremia",
         "MISC"
        ],
        [
         "41",
         "AJX5E2Z6GH",
         "drg_cva_medadv_1cc_hyponatremia",
         "MISC"
        ],
        [
         "42",
         "AJX4U343RG",
         "drg_cva_medadv_1cc_abla",
         "MISC"
        ],
        [
         "43",
         "AJX4U343RG",
         "drg_cva_medadv_1cc_abla",
         "MISC"
        ],
        [
         "44",
         "AJXY83F6YK",
         "drg_cva_medadv_1cc_chronicrespfailure",
         "MISC"
        ],
        [
         "45",
         "AJX9Z38Z86",
         "drg_cva_medadv_1mcc_encephalopathy",
         "ENCEPHALOPATHY"
        ],
        [
         "46",
         "AJX9Z38Z86",
         "drg_cva_medadv_1mcc_encephalopathy",
         "ENCEPHALOPATHY"
        ],
        [
         "47",
         "AJXCFK25UA",
         "drg_cva_medadv_1mcc_encephalopathy",
         "ENCEPHALOPATHY"
        ],
        [
         "48",
         "AJXCFK25UA",
         "drg_cva_medadv_1mcc_encephalopathy",
         "ENCEPHALOPATHY"
        ],
        [
         "49",
         "AJXCFK25UA",
         "drg_cva_medadv_1mcc_encephalopathy",
         "ENCEPHALOPATHY"
        ]
       ],
       "shape": {
        "columns": 3,
        "rows": 2090
       }
      },
      "text/html": [
       "<div>\n",
       "<style scoped>\n",
       "    .dataframe tbody tr th:only-of-type {\n",
       "        vertical-align: middle;\n",
       "    }\n",
       "\n",
       "    .dataframe tbody tr th {\n",
       "        vertical-align: top;\n",
       "    }\n",
       "\n",
       "    .dataframe thead th {\n",
       "        text-align: right;\n",
       "    }\n",
       "</style>\n",
       "<table border=\"1\" class=\"dataframe\">\n",
       "  <thead>\n",
       "    <tr style=\"text-align: right;\">\n",
       "      <th></th>\n",
       "      <th>adjudication_record_locator</th>\n",
       "      <th>query_name</th>\n",
       "      <th>template_name</th>\n",
       "    </tr>\n",
       "  </thead>\n",
       "  <tbody>\n",
       "    <tr>\n",
       "      <th>0</th>\n",
       "      <td>AJX6942UKZ</td>\n",
       "      <td>drg_cva_medadv_1mcc_acutechf</td>\n",
       "      <td>MISC</td>\n",
       "    </tr>\n",
       "    <tr>\n",
       "      <th>1</th>\n",
       "      <td>AJX6942UKZ</td>\n",
       "      <td>drg_cva_medadv_1mcc_acutechf</td>\n",
       "      <td>MISC</td>\n",
       "    </tr>\n",
       "    <tr>\n",
       "      <th>2</th>\n",
       "      <td>AJX6ZSSFR4</td>\n",
       "      <td>drg_cva_medadv_1cc_abla</td>\n",
       "      <td>MISC</td>\n",
       "    </tr>\n",
       "    <tr>\n",
       "      <th>3</th>\n",
       "      <td>AJXYF74GJH</td>\n",
       "      <td>drg_cva_medadv_1mcc_ami</td>\n",
       "      <td>MISC</td>\n",
       "    </tr>\n",
       "    <tr>\n",
       "      <th>4</th>\n",
       "      <td>AJXYF74GJH</td>\n",
       "      <td>drg_cva_medadv_1mcc_ami</td>\n",
       "      <td>MISC</td>\n",
       "    </tr>\n",
       "    <tr>\n",
       "      <th>...</th>\n",
       "      <td>...</td>\n",
       "      <td>...</td>\n",
       "      <td>...</td>\n",
       "    </tr>\n",
       "    <tr>\n",
       "      <th>2085</th>\n",
       "      <td>AJXK5CZ7CF</td>\n",
       "      <td>drg_cva_medadv_1mcc_generalrespfailure</td>\n",
       "      <td>MISC</td>\n",
       "    </tr>\n",
       "    <tr>\n",
       "      <th>2086</th>\n",
       "      <td>AJXK5CZ7CF</td>\n",
       "      <td>drg_cva_medadv_1mcc_generalrespfailure</td>\n",
       "      <td>MISC</td>\n",
       "    </tr>\n",
       "    <tr>\n",
       "      <th>2087</th>\n",
       "      <td>AJXZ9KRH22</td>\n",
       "      <td>drg_coding_medadv_871_sepsis_diverticultis, dr...</td>\n",
       "      <td>SEPSIS</td>\n",
       "    </tr>\n",
       "    <tr>\n",
       "      <th>2088</th>\n",
       "      <td>AJXZ9KRH22</td>\n",
       "      <td>drg_coding_medadv_871_sepsis_diverticultis, dr...</td>\n",
       "      <td>SEPSIS</td>\n",
       "    </tr>\n",
       "    <tr>\n",
       "      <th>2089</th>\n",
       "      <td>AJXCU72FG4</td>\n",
       "      <td>drg_coding_medadv_sepsis_cauti_pneumonia, drg_...</td>\n",
       "      <td>SEPSIS</td>\n",
       "    </tr>\n",
       "  </tbody>\n",
       "</table>\n",
       "<p>2090 rows × 3 columns</p>\n",
       "</div>"
      ],
      "text/plain": [
       "     adjudication_record_locator  \\\n",
       "0                     AJX6942UKZ   \n",
       "1                     AJX6942UKZ   \n",
       "2                     AJX6ZSSFR4   \n",
       "3                     AJXYF74GJH   \n",
       "4                     AJXYF74GJH   \n",
       "...                          ...   \n",
       "2085                  AJXK5CZ7CF   \n",
       "2086                  AJXK5CZ7CF   \n",
       "2087                  AJXZ9KRH22   \n",
       "2088                  AJXZ9KRH22   \n",
       "2089                  AJXCU72FG4   \n",
       "\n",
       "                                             query_name template_name  \n",
       "0                          drg_cva_medadv_1mcc_acutechf          MISC  \n",
       "1                          drg_cva_medadv_1mcc_acutechf          MISC  \n",
       "2                               drg_cva_medadv_1cc_abla          MISC  \n",
       "3                               drg_cva_medadv_1mcc_ami          MISC  \n",
       "4                               drg_cva_medadv_1mcc_ami          MISC  \n",
       "...                                                 ...           ...  \n",
       "2085             drg_cva_medadv_1mcc_generalrespfailure          MISC  \n",
       "2086             drg_cva_medadv_1mcc_generalrespfailure          MISC  \n",
       "2087  drg_coding_medadv_871_sepsis_diverticultis, dr...        SEPSIS  \n",
       "2088  drg_coding_medadv_871_sepsis_diverticultis, dr...        SEPSIS  \n",
       "2089  drg_coding_medadv_sepsis_cauti_pneumonia, drg_...        SEPSIS  \n",
       "\n",
       "[2090 rows x 3 columns]"
      ]
     },
     "execution_count": 36,
     "metadata": {},
     "output_type": "execute_result"
    }
   ],
   "source": [
    "df_ip[['adjudication_record_locator','query_name', 'template_name']]\n",
    "# df_ip.to_excel()"
   ]
  }
 ],
 "metadata": {
  "kernelspec": {
   "display_name": "Python 3",
   "language": "python",
   "name": "python3"
  },
  "language_info": {
   "codemirror_mode": {
    "name": "ipython",
    "version": 3
   },
   "file_extension": ".py",
   "mimetype": "text/x-python",
   "name": "python",
   "nbconvert_exporter": "python",
   "pygments_lexer": "ipython3",
   "version": "3.11.5"
  }
 },
 "nbformat": 4,
 "nbformat_minor": 5
}
