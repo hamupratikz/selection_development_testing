{
 "cells": [
  {
   "cell_type": "code",
   "execution_count": 9,
   "id": "6aacc603",
   "metadata": {},
   "outputs": [],
   "source": [
    "import pandas as pd\n",
    "import boto3\n",
    "import io"
   ]
  },
  {
   "cell_type": "code",
   "execution_count": null,
   "id": "1badadd7",
   "metadata": {},
   "outputs": [],
   "source": [
    "ACCESS_KEY = ''\n",
    "SECRET_KEY = ''\n",
    "\n",
    "\n",
    "s3_client = boto3.client('s3', region_name='us-east-1', aws_access_key_id=ACCESS_KEY,\n",
    "                         aws_secret_access_key=SECRET_KEY)\n",
    "athena_client = boto3.client('athena', region_name='us-east-1', aws_access_key_id=ACCESS_KEY,\n",
    "                         aws_secret_access_key=SECRET_KEY)\n",
    "\n",
    "session = boto3.Session(aws_access_key_id=ACCESS_KEY,\n",
    "                        aws_secret_access_key=SECRET_KEY)"
   ]
  },
  {
   "cell_type": "code",
   "execution_count": 36,
   "id": "368c19a2",
   "metadata": {},
   "outputs": [],
   "source": [
    "df = pd.read_csv(r\"C:\\Users\\hamupratik\\Downloads\\1d1d5bca-2ca1-415f-ba25-939be2e07541.csv\", dtype = str)"
   ]
  },
  {
   "cell_type": "code",
   "execution_count": 12,
   "id": "5870eb62",
   "metadata": {},
   "outputs": [],
   "source": [
    "source_db = 'devoted_health_prod'\n",
    "QUERY_OUTPUT_LOCATION = \"s3://zignaai-deidentified-claimsdata/query output/\"\n",
    "WORKGROUP_NAME = 'SelectionQueries-Production'"
   ]
  },
  {
   "cell_type": "code",
   "execution_count": 13,
   "id": "f2d76808",
   "metadata": {},
   "outputs": [],
   "source": [
    "def run_query(athena_client, s3_client, query_string, source_db, QUERY_OUTPUT_LOCATION, WORKGROUP):\n",
    "    \n",
    "    try:\n",
    "        response = athena_client.start_query_execution(\n",
    "            QueryString=query_string,\n",
    "            QueryExecutionContext={\n",
    "                'Database': source_db\n",
    "            },\n",
    "            ResultConfiguration={\n",
    "                'OutputLocation': QUERY_OUTPUT_LOCATION\n",
    "            },\n",
    "            WorkGroup=WORKGROUP\n",
    "        )\n",
    "        query_execution_id = response['QueryExecutionId']\n",
    "        \n",
    "        while True:\n",
    "            query_status = athena_client.get_query_execution(QueryExecutionId=query_execution_id) \n",
    "            query_state = query_status['QueryExecution']['Status']['State'] \n",
    "            query_result_path = query_status['QueryExecution']['ResultConfiguration']['OutputLocation'] # location of query output\n",
    "            if query_state in ['SUCCEEDED', 'FAILED', 'CANCELLED']:\n",
    "                break\n",
    "\n",
    "        if query_state == 'SUCCEEDED':\n",
    "            try:\n",
    "                bucket = query_result_path.split('//')[1].split('/')[0]\n",
    "                key = '/'.join(query_result_path.split('//')[1].split('/')[1:])\n",
    "                buffer = io.BytesIO(s3_client.get_object(Bucket=bucket, Key=key)['Body'].read()) \n",
    "                df = pd.read_csv(buffer, dtype=str) \n",
    "                return df\n",
    "            except Exception as e:\n",
    "                print(\"QUERY EXECUTION SUCCESSFULL BUT GOT ERROR WHILE CONVERSION TO DATAFRAME\")\n",
    "                print(e)\n",
    "        else:\n",
    "            print(\"Query execution failed Status: {}\".format(query_state))\n",
    "            return None\n",
    "    except Exception as e:\n",
    "            print(\"GOT EXCEPTION WHILE RUNNING QUERY\")\n",
    "            print(e)\n",
    "            return None"
   ]
  },
  {
   "cell_type": "code",
   "execution_count": 15,
   "id": "b910bb77",
   "metadata": {},
   "outputs": [],
   "source": [
    "query_string = \"\"\"SELECT * FROM \"zigna_reference_data\".\"reference_table_add_on_codes\"\n",
    "WHERE aoc_edit_type = 1\"\"\"\n",
    "\n",
    "referance_data = run_query(athena_client, s3_client, query_string, source_db, QUERY_OUTPUT_LOCATION, WORKGROUP_NAME)"
   ]
  },
  {
   "cell_type": "code",
   "execution_count": null,
   "id": "7e86d4eb",
   "metadata": {},
   "outputs": [],
   "source": [
    "referance_data_target_referance = referance_data[['add_on_code', 'primary_code', 'aoc_edit_effdt']].drop_duplicates()\n",
    "\n",
    "# theres correction in aoc_edit_effdt interpretation change it later\n",
    "referance_data_target_referance['aoc_edit_effdt'] = referance_data_target_referance['aoc_edit_effdt'].apply(lambda x: pd.to_datetime(str(x), format='%Y%j').strftime('%Y-%m-%d'))"
   ]
  },
  {
   "cell_type": "code",
   "execution_count": 27,
   "id": "c6f5e143",
   "metadata": {},
   "outputs": [],
   "source": [
    "overlapping_codes = set(referance_data_target_referance['add_on_code']).intersection(set(referance_data_target_referance['primary_code']))\n",
    "\n",
    "referance_data_target_referance = referance_data_target_referance[~referance_data_target_referance['add_on_code'].isin(overlapping_codes)]\n",
    "referance_data_target_referance = referance_data_target_referance[~referance_data_target_referance['primary_code'].isin(overlapping_codes)]\n"
   ]
  },
  {
   "cell_type": "code",
   "execution_count": 37,
   "id": "6bfe4be0",
   "metadata": {},
   "outputs": [],
   "source": [
    "df['plan_paid_amount'] = df['plan_paid_amount'].astype(float)"
   ]
  },
  {
   "cell_type": "code",
   "execution_count": 38,
   "id": "32d68e5b",
   "metadata": {},
   "outputs": [
    {
     "name": "stderr",
     "output_type": "stream",
     "text": [
      "C:\\Users\\hamupratik\\AppData\\Local\\Temp\\ipykernel_21772\\1804790787.py:1: DeprecationWarning: DataFrameGroupBy.apply operated on the grouping columns. This behavior is deprecated, and in a future version of pandas the grouping columns will be excluded from the operation. Either pass `include_groups=False` to exclude the groupings or explicitly select the grouping columns after groupby to silence this warning.\n",
      "  add_on_map = referance_data_target_referance.groupby('add_on_code').apply(lambda x: set(x['primary_code']))\n"
     ]
    }
   ],
   "source": [
    "add_on_map = referance_data_target_referance.groupby('add_on_code').apply(lambda x: set(x['primary_code']))\n",
    "add_on_map = add_on_map.reset_index(name='primary_code_array')"
   ]
  },
  {
   "cell_type": "code",
   "execution_count": 71,
   "id": "1e397f6e",
   "metadata": {},
   "outputs": [],
   "source": [
    "df = df.merge(add_on_map, left_on = ['procedure_code'], right_on = ['add_on_code'], how = 'left')\n"
   ]
  },
  {
   "cell_type": "code",
   "execution_count": 40,
   "id": "a8744ee0",
   "metadata": {},
   "outputs": [],
   "source": [
    "df['is_add_on'] =  df.apply(lambda x: '1' if x['plan_paid_amount']>=75 and x['add_on_code'] == x['add_on_code']\n",
    "                                     else 0, axis=1)"
   ]
  },
  {
   "cell_type": "code",
   "execution_count": 44,
   "id": "b0c5e68b",
   "metadata": {},
   "outputs": [],
   "source": [
    "map_add_on_primary_1 = df[(df['is_add_on'] == '1') & (df['plan_paid_amount']>75)][['payer_control_number', \n",
    "                                                             'add_on_code', 'primary_code_array', 'plan_paid_amount']]\n",
    "\n",
    "map_add_on_primary_11 = map_add_on_primary_1.groupby(['payer_control_number'])['primary_code_array'].apply(lambda x: x.tolist()[0]).reset_index()\n",
    "\n",
    "map_add_on_primary_11['primary_code'] = map_add_on_primary_11['primary_code_array']\n",
    "map_add_on_primary_11.drop(columns=['primary_code_array'], inplace=True)\n",
    "\n",
    "df = df.merge(map_add_on_primary_11, how='left', on = 'payer_control_number')\n"
   ]
  },
  {
   "cell_type": "code",
   "execution_count": 46,
   "id": "f2c2f7a1",
   "metadata": {},
   "outputs": [],
   "source": [
    "df['is_primary'] = df.apply(\n",
    "    lambda row: '1' if row['procedure_code'] in row['primary_code'] else '0',\n",
    "    axis=1\n",
    ")"
   ]
  },
  {
   "cell_type": "code",
   "execution_count": 47,
   "id": "2acf72dc",
   "metadata": {},
   "outputs": [],
   "source": [
    "df['service_date'] = pd.to_datetime(df['service_date'])\n",
    "df['proc_code_flag'] = 'other'\n",
    "\n",
    "for idx, row in df[df['is_add_on'] == '1'].iterrows():\n",
    "    match = df[\n",
    "        (df['payer_control_number'] == row['payer_control_number']) &\n",
    "        (df['service_date'] == row['service_date']) &\n",
    "        (df['is_primary'] == '1')\n",
    "    ]\n",
    "    if not match.empty:\n",
    "        df.at[idx, 'proc_code_flag'] = 'target'\n",
    "        for match_idx in match.index:\n",
    "            df.at[match_idx, 'proc_code_flag'] = 'reference'\n"
   ]
  },
  {
   "cell_type": "code",
   "execution_count": 52,
   "id": "7139df1c",
   "metadata": {},
   "outputs": [
    {
     "name": "stdout",
     "output_type": "stream",
     "text": [
      "number of pcns pulled from the query in athena: 212\n",
      "number of pcn dropped because it does not contain any add on code: 0\n",
      "%drop: 0.0\n",
      "remaining pcn: 212\n"
     ]
    }
   ],
   "source": [
    "valid_pcns = set(df[df['proc_code_flag']=='target']['payer_control_number'].unique())\n",
    "print('number of pcns pulled from the query in athena:', df['payer_control_number'].nunique())\n",
    "print(\"number of pcn dropped because it does not contain any add on code:\", df['payer_control_number'].nunique() - len(valid_pcns))\n",
    "print(\"%drop:\", round((df['payer_control_number'].nunique() - len(valid_pcns))*100 / df['payer_control_number'].nunique(),2))\n",
    "\n",
    "print(\"remaining pcn:\", len(valid_pcns))\n",
    "\n",
    "df = df[df['payer_control_number'].isin(valid_pcns)]\n"
   ]
  },
  {
   "cell_type": "code",
   "execution_count": 54,
   "id": "76574bb1",
   "metadata": {},
   "outputs": [
    {
     "name": "stdout",
     "output_type": "stream",
     "text": [
      "number of add_on_codes which are also used as primary code: 0\n",
      "number of pcn to be dropped because of add on code present in primary code: 0\n",
      "%drop:  0.0\n"
     ]
    }
   ],
   "source": [
    "# There are 129 add_on_codes in the FILTERED REFERANCE TABLE which are also primary codes.\n",
    "primary_codes_add_on_codes = set(referance_data_target_referance[\"add_on_code\"]).intersection(referance_data_target_referance[\"primary_code\"])\n",
    "print(\"number of add_on_codes which are also used as primary code:\", len(primary_codes_add_on_codes))\n",
    "\n",
    "# if add on code is flagged as target but it is present in primary code column in the referance table, \n",
    "# we should not select such claim as we dont know if it is billed as add on code or primary code. this code can be primary code by itself\n",
    "\n",
    "pcns_to_be_dropped = df[(df['proc_code_flag'] == 'target') \n",
    "                             & (df['procedure_code'].isin(primary_codes_add_on_codes))][\"payer_control_number\"].unique()\n",
    "\n",
    "print(\"number of pcn to be dropped because of add on code present in primary code:\", len(pcns_to_be_dropped))\n",
    "\n",
    "\n",
    "print(\"%drop: \", round((len(pcns_to_be_dropped))*100 / df['payer_control_number'].nunique(), 2))\n",
    "\n",
    "# dropping pcns \n",
    "df = df[~df['payer_control_number'].isin(pcns_to_be_dropped)].reset_index(drop = True)\n"
   ]
  },
  {
   "cell_type": "code",
   "execution_count": 55,
   "id": "5a284388",
   "metadata": {},
   "outputs": [
    {
     "name": "stdout",
     "output_type": "stream",
     "text": [
      "number of PCN to be dropped becasue thos rule 3: 1\n",
      "%drop:  0.47\n"
     ]
    }
   ],
   "source": [
    "pcns_to_be_dropped = df[(df['proc_code_flag'] == 'reference') & (df['plan_paid_amount'] > 0)]['payer_control_number'].unique()\n",
    "\n",
    "print(\"number of PCN to be dropped becasue thos rule 3:\", len(pcns_to_be_dropped))\n",
    "print(\"%drop: \", round((len(pcns_to_be_dropped))*100/ df['payer_control_number'].nunique(), 2))\n",
    "\n",
    "\n",
    "df = df[~df['payer_control_number'].isin(pcns_to_be_dropped)].reset_index(drop = True)\n"
   ]
  },
  {
   "cell_type": "code",
   "execution_count": 56,
   "id": "efe49ebb",
   "metadata": {},
   "outputs": [
    {
     "name": "stdout",
     "output_type": "stream",
     "text": [
      "number of procedure codes with CCCCC as primary code: 0\n"
     ]
    }
   ],
   "source": [
    "# add above rule\n",
    "x = referance_data_target_referance.groupby('add_on_code')['primary_code'].unique().reset_index()\n",
    "x['is_ccccc'] = x['primary_code'].astype(str).apply(lambda x: '1' if \"CCCCC\" in x else '0')\n",
    "add_on_codes_to_drop = x[x['is_ccccc'] == '1']['add_on_code'].unique()\n",
    "print(\"number of procedure codes with CCCCC as primary code:\", len(add_on_codes_to_drop))\n",
    "\n",
    "# check if this is 0, if yes good to go"
   ]
  },
  {
   "cell_type": "code",
   "execution_count": 61,
   "id": "7134dfe6",
   "metadata": {},
   "outputs": [],
   "source": [
    "# check if each pcn has target reference present or not the claims which are flagged as add_on_combination_type == both_present\n",
    "for i in set(df[\"payer_control_number\"]):\n",
    "    z = df[df[\"payer_control_number\"] == i]\n",
    "    for _, j in z.iterrows():\n",
    "        try:\n",
    "            flags = z['proc_code_flag'].unique()\n",
    "            if ('target' in flags) and ('reference' in flags):\n",
    "                pass\n",
    "            else:\n",
    "                print(j['payer_control_number'])\n",
    "        except Exception as e:\n",
    "            print(f\"Error processing payer_control_number {j['payer_control_number']}: {e} for rule each pcn has target reference present or not\")\n"
   ]
  },
  {
   "cell_type": "code",
   "execution_count": 68,
   "id": "64a88dd9",
   "metadata": {},
   "outputs": [],
   "source": [
    "df.sort_values(by=['payer_control_number', 'adjudication_record_locator', 'member_record_locator', 'member_medicare_id',\n",
    "                'rendering_provider_npi', 'service_date'],\n",
    "                inplace=True)\n",
    "df.reset_index(drop = True, inplace = True)"
   ]
  },
  {
   "cell_type": "code",
   "execution_count": 72,
   "id": "acf133c0",
   "metadata": {},
   "outputs": [],
   "source": [
    "# return this\n",
    "# df"
   ]
  },
  {
   "cell_type": "code",
   "execution_count": null,
   "id": "9931cfe3",
   "metadata": {},
   "outputs": [],
   "source": []
  }
 ],
 "metadata": {
  "kernelspec": {
   "display_name": ".venv",
   "language": "python",
   "name": "python3"
  },
  "language_info": {
   "codemirror_mode": {
    "name": "ipython",
    "version": 3
   },
   "file_extension": ".py",
   "mimetype": "text/x-python",
   "name": "python",
   "nbconvert_exporter": "python",
   "pygments_lexer": "ipython3",
   "version": "3.11.9"
  }
 },
 "nbformat": 4,
 "nbformat_minor": 5
}
